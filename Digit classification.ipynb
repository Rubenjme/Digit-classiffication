{
 "cells": [
  {
   "cell_type": "markdown",
   "metadata": {},
   "source": [
    "# <b> Digit classification with Neural networks using MNIST and Keras </b>"
   ]
  },
  {
   "cell_type": "markdown",
   "metadata": {},
   "source": [
    "---"
   ]
  },
  {
   "cell_type": "markdown",
   "metadata": {},
   "source": [
    "## Objetivos\n",
    "\n",
    "En este proyecto voy a utilizar una red neuronal para clasificar imágenes de dígitos del 0 al 9 escritos a mano. Para ello, utilizaré Keras con TensorFlow.\n",
    "\n",
    "Con este proyecto se busca:\n",
    "- Comprender el uso de redes neuronales en clasificación de imágenes\n",
    "- Familiarizarse con el dataset MNIST\n",
    "- Implementar un modelo de red neuronal\n",
    "- Evaluar el rendimiento del modelo"
   ]
  },
  {
   "cell_type": "markdown",
   "metadata": {},
   "source": [
    "## Descripción del proyecto\n",
    "\n",
    "El dataset que voy a utilizar es MNIST. Este dataset se usa mucho en campos como la docencia, pero también es muy utilizado en trabajos reales de investigación para el entrenamiento de imágenes. \n",
    "Las imágenes pretenden representar los números del 0 al 9 escritos a mano en un tamaño de 28x28 píxeles.\n",
    "\n",
    "En el siguiente [enlace](https://es.wikipedia.org/wiki/Base_de_datos_MNIST) hay más información sobre el dataset."
   ]
  },
  {
   "cell_type": "markdown",
   "metadata": {},
   "source": [
    "---"
   ]
  },
  {
   "cell_type": "markdown",
   "metadata": {},
   "source": [
    "### <b> Carga de los datos </b>"
   ]
  },
  {
   "cell_type": "code",
   "execution_count": 45,
   "metadata": {},
   "outputs": [],
   "source": [
    "from keras.datasets.mnist import load_data #Importo la función load_data de MNIST, que se usa para cargar las imágenes y las etiquetas de los dígitos\n",
    "import tensorflow as tf"
   ]
  },
  {
   "cell_type": "code",
   "execution_count": 46,
   "metadata": {},
   "outputs": [],
   "source": [
    "mnist = tf.keras.datasets.mnist # Guardo la referencia del dataset en la variable mnist\n",
    "\n",
    "(training_images, training_labels), (test_images, test_labels) = load_data() # Cargo el dataset y lo divido en datos de entrenamiento (imágenes y etiquetas) y test (imágenes y etiquetas)"
   ]
  },
  {
   "cell_type": "markdown",
   "metadata": {},
   "source": [
    "El dataset MNIST está guardado internamente en Keras, por lo que se puede utilizar sin necesidad de buscar el dataset de forma externa.\n",
    "\n",
    "Llamar a **load_data** en me proporciona 2 conjuntos de 2 listas, estos serán los valores de entrenamiento y test para los gráficos que contienen los dígitos y sus etiquetas."
   ]
  },
  {
   "cell_type": "markdown",
   "metadata": {},
   "source": [
    "### <b> Información sobre el dataset </b>\n",
    "\n",
    "Con los datos cargados en memoria, vamos a obtener información sobre ellos."
   ]
  },
  {
   "cell_type": "markdown",
   "metadata": {},
   "source": [
    "#### ¿Cuántas imágenes hay de *training* y de *test*? ¿Qué tamaño tienen las imágenes?"
   ]
  },
  {
   "cell_type": "code",
   "execution_count": 47,
   "metadata": {},
   "outputs": [
    {
     "name": "stdout",
     "output_type": "stream",
     "text": [
      "Shape de training_images: (60000, 28, 28)\n",
      "Shape de test_images: (10000, 28, 28)\n"
     ]
    }
   ],
   "source": [
    "print(\"Shape de training_images:\", training_images.shape)\n",
    "print(\"Shape de test_images:\", test_images.shape)"
   ]
  },
  {
   "cell_type": "markdown",
   "metadata": {},
   "source": [
    "Vemos que hay 60.000 imágenes para el conjunto de entrenamiento y 10.000 para el conjunto de test. En ambos conjunto las imágenes tienen un tamaño de 28x28.\n",
    "\n",
    "Represento la primera imagen con el fin de conocer mejor la naturaleza del dataset."
   ]
  },
  {
   "cell_type": "code",
   "execution_count": 48,
   "metadata": {},
   "outputs": [
    {
     "data": {
      "image/png": "[encoded data removed]",
      "text/plain": [
       "<Figure size 640x480 with 1 Axes>"
      ]
     },
     "metadata": {},
     "output_type": "display_data"
    },
    {
     "name": "stdout",
     "output_type": "stream",
     "text": [
      "Su etiqueta asignada es: 5\n",
      "__________________________________________\n",
      "Matriz de la primera imagen:\n",
      " [[  0   0   0   0   0   0   0   0   0   0   0   0   0   0   0   0   0   0   0   0   0   0   0   0   0   0   0   0]\n",
      " [  0   0   0   0   0   0   0   0   0   0   0   0   0   0   0   0   0   0   0   0   0   0   0   0   0   0   0   0]\n",
      " [  0   0   0   0   0   0   0   0   0   0   0   0   0   0   0   0   0   0   0   0   0   0   0   0   0   0   0   0]\n",
      " [  0   0   0   0   0   0   0   0   0   0   0   0   0   0   0   0   0   0   0   0   0   0   0   0   0   0   0   0]\n",
      " [  0   0   0   0   0   0   0   0   0   0   0   0   0   0   0   0   0   0   0   0   0   0   0   0   0   0   0   0]\n",
      " [  0   0   0   0   0   0   0   0   0   0   0   0   3  18  18  18 126 136 175  26 166 255 247 127   0   0   0   0]\n",
      " [  0   0   0   0   0   0   0   0  30  36  94 154 170 253 253 253 253 253 225 172 253 242 195  64   0   0   0   0]\n",
      " [  0   0   0   0   0   0   0  49 238 253 253 253 253 253 253 253 253 251  93  82  82  56  39   0   0   0   0   0]\n",
      " [  0   0   0   0   0   0   0  18 219 253 253 253 253 253 198 182 247 241   0   0   0   0   0   0   0   0   0   0]\n",
      " [  0   0   0   0   0   0   0   0  80 156 107 253 253 205  11   0  43 154   0   0   0   0   0   0   0   0   0   0]\n",
      " [  0   0   0   0   0   0   0   0   0  14   1 154 253  90   0   0   0   0   0   0   0   0   0   0   0   0   0   0]\n",
      " [  0   0   0   0   0   0   0   0   0   0   0 139 253 190   2   0   0   0   0   0   0   0   0   0   0   0   0   0]\n",
      " [  0   0   0   0   0   0   0   0   0   0   0  11 190 253  70   0   0   0   0   0   0   0   0   0   0   0   0   0]\n",
      " [  0   0   0   0   0   0   0   0   0   0   0   0  35 241 225 160 108   1   0   0   0   0   0   0   0   0   0   0]\n",
      " [  0   0   0   0   0   0   0   0   0   0   0   0   0  81 240 253 253 119  25   0   0   0   0   0   0   0   0   0]\n",
      " [  0   0   0   0   0   0   0   0   0   0   0   0   0   0  45 186 253 253 150  27   0   0   0   0   0   0   0   0]\n",
      " [  0   0   0   0   0   0   0   0   0   0   0   0   0   0   0  16  93 252 253 187   0   0   0   0   0   0   0   0]\n",
      " [  0   0   0   0   0   0   0   0   0   0   0   0   0   0   0   0   0 249 253 249  64   0   0   0   0   0   0   0]\n",
      " [  0   0   0   0   0   0   0   0   0   0   0   0   0   0  46 130 183 253 253 207   2   0   0   0   0   0   0   0]\n",
      " [  0   0   0   0   0   0   0   0   0   0   0   0  39 148 229 253 253 253 250 182   0   0   0   0   0   0   0   0]\n",
      " [  0   0   0   0   0   0   0   0   0   0  24 114 221 253 253 253 253 201  78   0   0   0   0   0   0   0   0   0]\n",
      " [  0   0   0   0   0   0   0   0  23  66 213 253 253 253 253 198  81   2   0   0   0   0   0   0   0   0   0   0]\n",
      " [  0   0   0   0   0   0  18 171 219 253 253 253 253 195  80   9   0   0   0   0   0   0   0   0   0   0   0   0]\n",
      " [  0   0   0   0  55 172 226 253 253 253 253 244 133  11   0   0   0   0   0   0   0   0   0   0   0   0   0   0]\n",
      " [  0   0   0   0 136 253 253 253 212 135 132  16   0   0   0   0   0   0   0   0   0   0   0   0   0   0   0   0]\n",
      " [  0   0   0   0   0   0   0   0   0   0   0   0   0   0   0   0   0   0   0   0   0   0   0   0   0   0   0   0]\n",
      " [  0   0   0   0   0   0   0   0   0   0   0   0   0   0   0   0   0   0   0   0   0   0   0   0   0   0   0   0]\n",
      " [  0   0   0   0   0   0   0   0   0   0   0   0   0   0   0   0   0   0   0   0   0   0   0   0   0   0   0   0]]\n"
     ]
    }
   ],
   "source": [
    "import numpy as np\n",
    "import matplotlib.pyplot as plt\n",
    "\n",
    "# En la mayoría de casos es preferible trabajar con imágenes en blanco y negro, ya que requieren menos procesamiento (solo un canal).\n",
    "plt.imshow(training_images[0], cmap=\"gray\") # Muestro la primera imagen del dataset de entrenamiento en blanco y negro\n",
    "plt.show()\n",
    "\n",
    "np.set_printoptions(linewidth=200)                          # Configuro la salida para que la matriz tenga espacio horizontal suficiente para mostrarse correctamente.\n",
    "print(f\"Su etiqueta asignada es: {training_labels[0]}\")     # Muestro la etiqueta que tiene asignada la primera imagen\n",
    "print(\"_\"*42)\n",
    "print(\"Matriz de la primera imagen:\\n\", training_images[0]) # Muestro cómo se almacena la primera imagen en escala de grises\n"
   ]
  },
  {
   "cell_type": "markdown",
   "metadata": {},
   "source": [
    "Cada imagen guardada consiste en una matriz de 28x28 píxeles, donde cada número en la matriz es un valor de intensidad de gris que va de 0 (negro) a 255 (blanco). \n",
    "\n",
    "La información en Y (las etiquetas) es el dígito que la imagen representa, un número entre 0 y 9, que es la respuesta correcta para cada imagen. Estas etiquetas se utilizarán durante el entrenamiento de la red neuronal para saber qué salida debería producirse cuando se muestra una imagen."
   ]
  },
  {
   "cell_type": "markdown",
   "metadata": {},
   "source": [
    "### **Normalización y preprocesado de los datos**"
   ]
  },
  {
   "cell_type": "markdown",
   "metadata": {},
   "source": [
    "#### Normalización"
   ]
  },
  {
   "cell_type": "markdown",
   "metadata": {},
   "source": [
    "Todos los valores numéricos están entre 0 y 255. Para entrenar redes neuronales, es una buena práctica transformar todos los valores a un rango entre 0 y 1, lo que se habitualmente se llama \"normalización\"."
   ]
  },
  {
   "cell_type": "code",
   "execution_count": 49,
   "metadata": {},
   "outputs": [],
   "source": [
    "# Divido entre 255 los valores para normalizar a un rango de 0 a 1\n",
    "training_images = training_images / 255.0\n",
    "test_images = test_images / 255.0"
   ]
  },
  {
   "cell_type": "markdown",
   "metadata": {},
   "source": [
    "#### Conversión a vectores de 1 dimensión"
   ]
  },
  {
   "cell_type": "markdown",
   "metadata": {},
   "source": [
    "Las redes neuronales suelen trabajar con vectores de una única dimensión como entrada. Por tanto, es necesario reducir las imágenes que tengo de 28x28 píxeles (2 dimensiones), tienen que transformarse en vectores de 784 valores (28*28 = 784).\n",
    "Con esto se facilita el cálculo y procesamiento de los pesos en las capas de la red neuronal.\n"
   ]
  },
  {
   "cell_type": "code",
   "execution_count": 50,
   "metadata": {},
   "outputs": [
    {
     "name": "stdout",
     "output_type": "stream",
     "text": [
      "Nueva forma de training_images después del cambio: (60000, 784)\n",
      "Nueva forma de test_images después del cambio: (10000, 784)\n"
     ]
    }
   ],
   "source": [
    "# Cambia la forma de los datos de entrenamiento y test para que sean vectores de tamaño 784\n",
    "# \"-1\" permite que NumPy ajuste automáticamente la primera dimensión según el número total de imágenes.\n",
    "training_images = training_images.reshape(-1, 28*28) \n",
    "test_images = test_images.reshape(-1, 28*28)\n",
    "\n",
    "print(f\"Nueva forma de training_images después del cambio: {training_images.shape}\")\n",
    "print(f\"Nueva forma de test_images después del cambio: {test_images.shape}\")"
   ]
  },
  {
   "cell_type": "markdown",
   "metadata": {},
   "source": [
    "Se obtienen 60000 imágenes en el conjunto de entrenamiento, donde cada imagen está representada en 1 único vector por 784 píxeles. Lo mismo ocurre en el conjunto de test, donde se han obtenido 10000 imágenes."
   ]
  },
  {
   "cell_type": "markdown",
   "metadata": {},
   "source": [
    "#### One-hot encoding"
   ]
  },
  {
   "cell_type": "code",
   "execution_count": 51,
   "metadata": {},
   "outputs": [
    {
     "name": "stdout",
     "output_type": "stream",
     "text": [
      "\n",
      "Etiqueta antes de one-hot encoding: 5\n",
      "Forma de test_labels antes del cambio: (10000,)\n",
      "Forma de training_labels antes del cambio: (60000,)\n",
      "\n",
      "Etiqueta después de one-hot encoding: [0. 0. 0. 0. 0. 1. 0. 0. 0. 0.]\n",
      "Nueva forma de test_labels: (10000, 10)\n",
      "Nueva forma de training_labels: (60000, 10)\n"
     ]
    }
   ],
   "source": [
    "print(\"\\nEtiqueta antes de one-hot encoding:\", training_labels[0]) # Por defecto viene almacenado como un número entero, 5 en este caso.\n",
    "print(f\"Forma de test_labels antes del cambio: {test_labels.shape}\")\n",
    "print(f\"Forma de training_labels antes del cambio: {training_labels.shape}\")\n",
    "\n",
    "# Aplico one-hot encoding a las etiquetas de entrenamiento y test\n",
    "training_labels = tf.keras.utils.to_categorical(training_labels)\n",
    "test_labels = tf.keras.utils.to_categorical(test_labels)\n",
    "\n",
    "\n",
    "print(\"\\nEtiqueta después de one-hot encoding:\", training_labels[0]) #Era un 5 antes de aplicarlo\n",
    "print(\"Nueva forma de test_labels:\", test_labels.shape)\n",
    "print(\"Nueva forma de training_labels:\", training_labels.shape)"
   ]
  },
  {
   "cell_type": "markdown",
   "metadata": {},
   "source": [
    "Se aplicó One-hot-encoding a las etiquetas para facilitar la predicción y evitar confusiones entre números cercanos, ya que solo es posible tener una posición activada. \n",
    "\n",
    "Para el ejemplo expuesto la etiqueta corresponde al número \"5\", pero al aplicar One-hot-encoding, se representa como un vector de 10 posiciones en el que solo la 6ª posición estará activada.\n",
    "- 5 -> [0. 0. 0. 0. 0. 1. 0. 0. 0. 0.]\n",
    "\n",
    "Esto facilita el procesamiento y hace más eficiente el entrenamiento de la red neuronal."
   ]
  },
  {
   "cell_type": "markdown",
   "metadata": {},
   "source": [
    "### **Creación del modelo**"
   ]
  }
 ],
 "metadata": {
  "kernelspec": {
   "display_name": "Python 3",
   "language": "python",
   "name": "python3"
  },
  "language_info": {
   "codemirror_mode": {
    "name": "ipython",
    "version": 3
   },
   "file_extension": ".py",
   "mimetype": "text/x-python",
   "name": "python",
   "nbconvert_exporter": "python",
   "pygments_lexer": "ipython3",
   "version": "3.11.9"
  }
 },
 "nbformat": 4,
 "nbformat_minor": 2
}
