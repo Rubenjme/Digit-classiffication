{
 "cells": [
  {
   "cell_type": "markdown",
   "metadata": {},
   "source": [
    "# <b> Digit classification with Neural networks using MNIST and Keras </b>"
   ]
  },
  {
   "cell_type": "markdown",
   "metadata": {},
   "source": [
    "---"
   ]
  },
  {
   "cell_type": "markdown",
   "metadata": {},
   "source": [
    "## Objetivos\n",
    "\n",
    "En este proyecto voy a utilizar una red neuronal para clasificar imágenes de dígitos del 0 al 9 escritos a mano. Para ello, utilizaré Keras con TensorFlow.\n",
    "\n",
    "Con este proyecto se busca:\n",
    "- Comprender el uso de redes neuronales en clasificación de imágenes\n",
    "- Familiarizarse con el dataset MNIST\n",
    "- Implementar un modelo de red neuronal\n",
    "- Experimentar con distintos parámetros\n",
    "- Evaluar el rendimiento del modelo"
   ]
  },
  {
   "cell_type": "markdown",
   "metadata": {},
   "source": [
    "## Descripción del proyecto\n",
    "\n",
    "El dataset que voy a utilizar es MNIST. Este dataset se usa mucho en campos como la docencia, pero también es muy utilizado en trabajos reales de investigación para el entrenamiento de imágenes. \n",
    "Las imágenes pretenden representar los números del 0 al 9 escritos a mano en un tamaño de 28x28 píxeles.\n",
    "\n",
    "En el siguiente [enlace](https://es.wikipedia.org/wiki/Base_de_datos_MNIST) hay más información sobre el dataset."
   ]
  },
  {
   "cell_type": "markdown",
   "metadata": {},
   "source": [
    "---"
   ]
  },
  {
   "cell_type": "markdown",
   "metadata": {},
   "source": [
    "### <b> Carga de los datos </b>"
   ]
  },
  {
   "cell_type": "code",
   "execution_count": 172,
   "metadata": {},
   "outputs": [],
   "source": [
    "from keras.datasets.mnist import load_data # Importo la función load_data de MNIST, que se usa para cargar las imágenes y las etiquetas de los dígitos\n",
    "import tensorflow as tf"
   ]
  },
  {
   "cell_type": "code",
   "execution_count": 173,
   "metadata": {},
   "outputs": [],
   "source": [
    "mnist = tf.keras.datasets.mnist # Guardo la referencia del dataset en la variable mnist\n",
    "\n",
    "(training_images, training_labels), (test_images, test_labels) = load_data() # Cargo el dataset y lo divido en datos de entrenamiento (imágenes y etiquetas) y test (imágenes y etiquetas)"
   ]
  },
  {
   "cell_type": "markdown",
   "metadata": {},
   "source": [
    "El dataset MNIST está guardado internamente en Keras, por lo que se puede utilizar sin necesidad de buscar el dataset de forma externa.\n",
    "\n",
    "Llamar a **load_data** en me proporciona 2 conjuntos de 2 listas, estos serán los valores de entrenamiento y test para los gráficos que contienen los dígitos y sus etiquetas."
   ]
  },
  {
   "cell_type": "markdown",
   "metadata": {},
   "source": [
    "### <b> Información sobre el dataset </b>\n",
    "\n",
    "Con los datos cargados en memoria, vamos a obtener información sobre ellos."
   ]
  },
  {
   "cell_type": "markdown",
   "metadata": {},
   "source": [
    "#### ¿Cuántas imágenes hay de *training* y de *test*? ¿Qué tamaño tienen las imágenes?"
   ]
  },
  {
   "cell_type": "code",
   "execution_count": 174,
   "metadata": {},
   "outputs": [
    {
     "name": "stdout",
     "output_type": "stream",
     "text": [
      "Shape de training_images: (60000, 28, 28)\n",
      "Shape de test_images: (10000, 28, 28)\n"
     ]
    }
   ],
   "source": [
    "print(\"Shape de training_images:\", training_images.shape)\n",
    "print(\"Shape de test_images:\", test_images.shape)"
   ]
  },
  {
   "cell_type": "markdown",
   "metadata": {},
   "source": [
    "Vemos que hay 60.000 imágenes para el conjunto de entrenamiento y 10.000 para el conjunto de test. En ambos conjunto las imágenes tienen un tamaño de 28x28.\n",
    "\n",
    "Represento la primera imagen con el fin de conocer mejor la naturaleza del dataset."
   ]
  },
  {
   "cell_type": "code",
   "execution_count": 175,
   "metadata": {},
   "outputs": [
    {
     "data": {
      "image/png": "[encoded data removed]",
      "text/plain": [
       "<Figure size 640x480 with 1 Axes>"
      ]
     },
     "metadata": {},
     "output_type": "display_data"
    },
    {
     "name": "stdout",
     "output_type": "stream",
     "text": [
      "Su etiqueta asignada es: 5\n",
      "__________________________________________\n",
      "Matriz de la primera imagen:\n",
      " [[  0   0   0   0   0   0   0   0   0   0   0   0   0   0   0   0   0   0   0   0   0   0   0   0   0   0   0   0]\n",
      " [  0   0   0   0   0   0   0   0   0   0   0   0   0   0   0   0   0   0   0   0   0   0   0   0   0   0   0   0]\n",
      " [  0   0   0   0   0   0   0   0   0   0   0   0   0   0   0   0   0   0   0   0   0   0   0   0   0   0   0   0]\n",
      " [  0   0   0   0   0   0   0   0   0   0   0   0   0   0   0   0   0   0   0   0   0   0   0   0   0   0   0   0]\n",
      " [  0   0   0   0   0   0   0   0   0   0   0   0   0   0   0   0   0   0   0   0   0   0   0   0   0   0   0   0]\n",
      " [  0   0   0   0   0   0   0   0   0   0   0   0   3  18  18  18 126 136 175  26 166 255 247 127   0   0   0   0]\n",
      " [  0   0   0   0   0   0   0   0  30  36  94 154 170 253 253 253 253 253 225 172 253 242 195  64   0   0   0   0]\n",
      " [  0   0   0   0   0   0   0  49 238 253 253 253 253 253 253 253 253 251  93  82  82  56  39   0   0   0   0   0]\n",
      " [  0   0   0   0   0   0   0  18 219 253 253 253 253 253 198 182 247 241   0   0   0   0   0   0   0   0   0   0]\n",
      " [  0   0   0   0   0   0   0   0  80 156 107 253 253 205  11   0  43 154   0   0   0   0   0   0   0   0   0   0]\n",
      " [  0   0   0   0   0   0   0   0   0  14   1 154 253  90   0   0   0   0   0   0   0   0   0   0   0   0   0   0]\n",
      " [  0   0   0   0   0   0   0   0   0   0   0 139 253 190   2   0   0   0   0   0   0   0   0   0   0   0   0   0]\n",
      " [  0   0   0   0   0   0   0   0   0   0   0  11 190 253  70   0   0   0   0   0   0   0   0   0   0   0   0   0]\n",
      " [  0   0   0   0   0   0   0   0   0   0   0   0  35 241 225 160 108   1   0   0   0   0   0   0   0   0   0   0]\n",
      " [  0   0   0   0   0   0   0   0   0   0   0   0   0  81 240 253 253 119  25   0   0   0   0   0   0   0   0   0]\n",
      " [  0   0   0   0   0   0   0   0   0   0   0   0   0   0  45 186 253 253 150  27   0   0   0   0   0   0   0   0]\n",
      " [  0   0   0   0   0   0   0   0   0   0   0   0   0   0   0  16  93 252 253 187   0   0   0   0   0   0   0   0]\n",
      " [  0   0   0   0   0   0   0   0   0   0   0   0   0   0   0   0   0 249 253 249  64   0   0   0   0   0   0   0]\n",
      " [  0   0   0   0   0   0   0   0   0   0   0   0   0   0  46 130 183 253 253 207   2   0   0   0   0   0   0   0]\n",
      " [  0   0   0   0   0   0   0   0   0   0   0   0  39 148 229 253 253 253 250 182   0   0   0   0   0   0   0   0]\n",
      " [  0   0   0   0   0   0   0   0   0   0  24 114 221 253 253 253 253 201  78   0   0   0   0   0   0   0   0   0]\n",
      " [  0   0   0   0   0   0   0   0  23  66 213 253 253 253 253 198  81   2   0   0   0   0   0   0   0   0   0   0]\n",
      " [  0   0   0   0   0   0  18 171 219 253 253 253 253 195  80   9   0   0   0   0   0   0   0   0   0   0   0   0]\n",
      " [  0   0   0   0  55 172 226 253 253 253 253 244 133  11   0   0   0   0   0   0   0   0   0   0   0   0   0   0]\n",
      " [  0   0   0   0 136 253 253 253 212 135 132  16   0   0   0   0   0   0   0   0   0   0   0   0   0   0   0   0]\n",
      " [  0   0   0   0   0   0   0   0   0   0   0   0   0   0   0   0   0   0   0   0   0   0   0   0   0   0   0   0]\n",
      " [  0   0   0   0   0   0   0   0   0   0   0   0   0   0   0   0   0   0   0   0   0   0   0   0   0   0   0   0]\n",
      " [  0   0   0   0   0   0   0   0   0   0   0   0   0   0   0   0   0   0   0   0   0   0   0   0   0   0   0   0]]\n"
     ]
    }
   ],
   "source": [
    "import numpy as np\n",
    "import matplotlib.pyplot as plt\n",
    "\n",
    "# En la mayoría de casos es preferible trabajar con imágenes en blanco y negro, ya que requieren menos procesamiento (solo un canal).\n",
    "plt.imshow(training_images[0], cmap=\"gray\") # Muestro la primera imagen del dataset de entrenamiento en blanco y negro\n",
    "plt.show()\n",
    "\n",
    "np.set_printoptions(linewidth=200)                          # Configuro la salida para que la matriz tenga espacio horizontal suficiente para mostrarse correctamente.\n",
    "print(f\"Su etiqueta asignada es: {training_labels[0]}\")     # Muestro la etiqueta que tiene asignada la primera imagen\n",
    "print(\"_\"*42)\n",
    "print(\"Matriz de la primera imagen:\\n\", training_images[0]) # Muestro cómo se almacena la primera imagen en escala de grises\n"
   ]
  },
  {
   "cell_type": "markdown",
   "metadata": {},
   "source": [
    "Cada imagen guardada consiste en una matriz de 28x28 píxeles, donde cada número en la matriz es un valor de intensidad de gris que va de 0 (negro) a 255 (blanco). \n",
    "\n",
    "La información en Y (las etiquetas) es el dígito que la imagen representa, un número entre 0 y 9, que es la respuesta correcta para cada imagen. Estas etiquetas se utilizarán durante el entrenamiento de la red neuronal para saber qué salida debería producirse cuando se muestra una imagen."
   ]
  },
  {
   "cell_type": "markdown",
   "metadata": {},
   "source": [
    "### **Normalización y preprocesado de los datos**"
   ]
  },
  {
   "cell_type": "markdown",
   "metadata": {},
   "source": [
    "#### Normalización"
   ]
  },
  {
   "cell_type": "markdown",
   "metadata": {},
   "source": [
    "Todos los valores numéricos están entre 0 y 255. Para entrenar redes neuronales, es una buena práctica transformar todos los valores a un rango entre 0 y 1, lo que se habitualmente se llama \"normalización\"."
   ]
  },
  {
   "cell_type": "code",
   "execution_count": 176,
   "metadata": {},
   "outputs": [],
   "source": [
    "# Divido entre 255 los valores para normalizar a un rango de 0 a 1\n",
    "training_images = training_images / 255.0\n",
    "test_images = test_images / 255.0"
   ]
  },
  {
   "cell_type": "markdown",
   "metadata": {},
   "source": [
    "#### Conversión a vectores de 1 dimensión"
   ]
  },
  {
   "cell_type": "markdown",
   "metadata": {},
   "source": [
    "Las redes neuronales suelen trabajar con vectores de una única dimensión como entrada. Por tanto, es necesario reducir las imágenes que tengo de 28x28 píxeles (2 dimensiones), tienen que transformarse en vectores de 784 valores (28*28 = 784).\n",
    "Con esto se facilita el cálculo y procesamiento de los pesos en las capas de la red neuronal.\n"
   ]
  },
  {
   "cell_type": "code",
   "execution_count": 177,
   "metadata": {},
   "outputs": [
    {
     "name": "stdout",
     "output_type": "stream",
     "text": [
      "Nueva forma de training_images después del cambio: (60000, 784)\n",
      "Nueva forma de test_images después del cambio: (10000, 784)\n"
     ]
    }
   ],
   "source": [
    "# Cambia la forma de los datos de entrenamiento y test para que sean vectores de tamaño 784\n",
    "# \"-1\" permite que NumPy ajuste automáticamente la primera dimensión según el número total de imágenes.\n",
    "training_images = training_images.reshape(-1, 28*28) \n",
    "test_images = test_images.reshape(-1, 28*28)\n",
    "\n",
    "print(f\"Nueva forma de training_images después del cambio: {training_images.shape}\")\n",
    "print(f\"Nueva forma de test_images después del cambio: {test_images.shape}\")"
   ]
  },
  {
   "cell_type": "markdown",
   "metadata": {},
   "source": [
    "Se obtienen 60000 imágenes en el conjunto de entrenamiento, donde cada imagen está representada en 1 único vector por 784 píxeles. Lo mismo ocurre en el conjunto de test, donde se han obtenido 10000 imágenes."
   ]
  },
  {
   "cell_type": "markdown",
   "metadata": {},
   "source": [
    "#### One-hot encoding"
   ]
  },
  {
   "cell_type": "code",
   "execution_count": 178,
   "metadata": {},
   "outputs": [
    {
     "name": "stdout",
     "output_type": "stream",
     "text": [
      "\n",
      "Etiqueta antes de one-hot encoding: 5\n",
      "Forma de test_labels antes del cambio: (10000,)\n",
      "Forma de training_labels antes del cambio: (60000,)\n",
      "\n",
      "Etiqueta después de one-hot encoding: [0. 0. 0. 0. 0. 1. 0. 0. 0. 0.]\n",
      "Nueva forma de test_labels: (10000, 10)\n",
      "Nueva forma de training_labels: (60000, 10)\n"
     ]
    }
   ],
   "source": [
    "print(\"\\nEtiqueta antes de one-hot encoding:\", training_labels[0]) # Por defecto viene almacenado como un número entero, 5 en este caso.\n",
    "print(f\"Forma de test_labels antes del cambio: {test_labels.shape}\")\n",
    "print(f\"Forma de training_labels antes del cambio: {training_labels.shape}\")\n",
    "\n",
    "# Aplico one-hot encoding a las etiquetas de entrenamiento y test\n",
    "training_labels = tf.keras.utils.to_categorical(training_labels)\n",
    "test_labels = tf.keras.utils.to_categorical(test_labels)\n",
    "\n",
    "\n",
    "print(\"\\nEtiqueta después de one-hot encoding:\", training_labels[0]) #Era un 5 antes de aplicarlo\n",
    "print(\"Nueva forma de test_labels:\", test_labels.shape)\n",
    "print(\"Nueva forma de training_labels:\", training_labels.shape)"
   ]
  },
  {
   "cell_type": "markdown",
   "metadata": {},
   "source": [
    "Se aplicó One-hot-encoding a las etiquetas para facilitar la predicción y evitar confusiones entre números cercanos, ya que solo es posible tener una posición activada. \n",
    "\n",
    "Para el ejemplo expuesto la etiqueta corresponde al número \"5\", pero al aplicar One-hot-encoding, se representa como un vector de 10 posiciones en el que solo la 6ª posición estará activada.\n",
    "- 5 -> [0. 0. 0. 0. 0. 1. 0. 0. 0. 0.]\n",
    "\n",
    "Esto facilita el procesamiento y hace más eficiente el entrenamiento de la red neuronal."
   ]
  },
  {
   "cell_type": "markdown",
   "metadata": {},
   "source": [
    "### **Creación del modelo**"
   ]
  },
  {
   "cell_type": "markdown",
   "metadata": {},
   "source": [
    "Para la definición del modelo es necesario tener claro una serie de conceptos muy útiles:\n",
    "- **Sequential**: Define una secuencia de capas en la red neuronal\n",
    "\n",
    "- **Dense**: Añade una capa de neuronas\n",
    "\n",
    "- **Flatten**: Convierte un vector multidimensional a un vector de una dimensión.\n",
    "\n",
    "Cada capa de neuronas necesita una función de activación. Normalmente se usa la función relu en las capas intermedias y softmax en la ultima capa (en problemas de clasificación de más de dos items)\n",
    "- **Relu**: significa que \"Si X>0 devuelve X, si no, devuelve 0\", así que lo que hace es pasar sólo valores 0 o mayores a la siguiente capa de la red.\n",
    "\n",
    "- **Softmax**: Coge un conjunto de valores y lo convierte en un vector de probabilidades que suman 1."
   ]
  },
  {
   "cell_type": "code",
   "execution_count": 179,
   "metadata": {},
   "outputs": [
    {
     "data": {
      "text/html": [
       "<pre style=\"white-space:pre;overflow-x:auto;line-height:normal;font-family:Menlo,'DejaVu Sans Mono',consolas,'Courier New',monospace\"><span style=\"font-weight: bold\">Model: \"sequential_34\"</span>\n",
       "</pre>\n"
      ],
      "text/plain": [
       "\u001b[1mModel: \"sequential_34\"\u001b[0m\n"
      ]
     },
     "metadata": {},
     "output_type": "display_data"
    },
    {
     "data": {
      "text/html": [
       "<pre style=\"white-space:pre;overflow-x:auto;line-height:normal;font-family:Menlo,'DejaVu Sans Mono',consolas,'Courier New',monospace\">┏━━━━━━━━━━━━━━━━━━━━━━━━━━━━━━━━━┳━━━━━━━━━━━━━━━━━━━━━━━━┳━━━━━━━━━━━━━━━┓\n",
       "┃<span style=\"font-weight: bold\"> Layer (type)                    </span>┃<span style=\"font-weight: bold\"> Output Shape           </span>┃<span style=\"font-weight: bold\">       Param # </span>┃\n",
       "┡━━━━━━━━━━━━━━━━━━━━━━━━━━━━━━━━━╇━━━━━━━━━━━━━━━━━━━━━━━━╇━━━━━━━━━━━━━━━┩\n",
       "│ dense_88 (<span style=\"color: #0087ff; text-decoration-color: #0087ff\">Dense</span>)                │ (<span style=\"color: #00d7ff; text-decoration-color: #00d7ff\">None</span>, <span style=\"color: #00af00; text-decoration-color: #00af00\">512</span>)            │       <span style=\"color: #00af00; text-decoration-color: #00af00\">401,920</span> │\n",
       "├─────────────────────────────────┼────────────────────────┼───────────────┤\n",
       "│ dense_89 (<span style=\"color: #0087ff; text-decoration-color: #0087ff\">Dense</span>)                │ (<span style=\"color: #00d7ff; text-decoration-color: #00d7ff\">None</span>, <span style=\"color: #00af00; text-decoration-color: #00af00\">10</span>)             │         <span style=\"color: #00af00; text-decoration-color: #00af00\">5,130</span> │\n",
       "└─────────────────────────────────┴────────────────────────┴───────────────┘\n",
       "</pre>\n"
      ],
      "text/plain": [
       "┏━━━━━━━━━━━━━━━━━━━━━━━━━━━━━━━━━┳━━━━━━━━━━━━━━━━━━━━━━━━┳━━━━━━━━━━━━━━━┓\n",
       "┃\u001b[1m \u001b[0m\u001b[1mLayer (type)                   \u001b[0m\u001b[1m \u001b[0m┃\u001b[1m \u001b[0m\u001b[1mOutput Shape          \u001b[0m\u001b[1m \u001b[0m┃\u001b[1m \u001b[0m\u001b[1m      Param #\u001b[0m\u001b[1m \u001b[0m┃\n",
       "┡━━━━━━━━━━━━━━━━━━━━━━━━━━━━━━━━━╇━━━━━━━━━━━━━━━━━━━━━━━━╇━━━━━━━━━━━━━━━┩\n",
       "│ dense_88 (\u001b[38;5;33mDense\u001b[0m)                │ (\u001b[38;5;45mNone\u001b[0m, \u001b[38;5;34m512\u001b[0m)            │       \u001b[38;5;34m401,920\u001b[0m │\n",
       "├─────────────────────────────────┼────────────────────────┼───────────────┤\n",
       "│ dense_89 (\u001b[38;5;33mDense\u001b[0m)                │ (\u001b[38;5;45mNone\u001b[0m, \u001b[38;5;34m10\u001b[0m)             │         \u001b[38;5;34m5,130\u001b[0m │\n",
       "└─────────────────────────────────┴────────────────────────┴───────────────┘\n"
      ]
     },
     "metadata": {},
     "output_type": "display_data"
    },
    {
     "data": {
      "text/html": [
       "<pre style=\"white-space:pre;overflow-x:auto;line-height:normal;font-family:Menlo,'DejaVu Sans Mono',consolas,'Courier New',monospace\"><span style=\"font-weight: bold\"> Total params: </span><span style=\"color: #00af00; text-decoration-color: #00af00\">407,050</span> (1.55 MB)\n",
       "</pre>\n"
      ],
      "text/plain": [
       "\u001b[1m Total params: \u001b[0m\u001b[38;5;34m407,050\u001b[0m (1.55 MB)\n"
      ]
     },
     "metadata": {},
     "output_type": "display_data"
    },
    {
     "data": {
      "text/html": [
       "<pre style=\"white-space:pre;overflow-x:auto;line-height:normal;font-family:Menlo,'DejaVu Sans Mono',consolas,'Courier New',monospace\"><span style=\"font-weight: bold\"> Trainable params: </span><span style=\"color: #00af00; text-decoration-color: #00af00\">407,050</span> (1.55 MB)\n",
       "</pre>\n"
      ],
      "text/plain": [
       "\u001b[1m Trainable params: \u001b[0m\u001b[38;5;34m407,050\u001b[0m (1.55 MB)\n"
      ]
     },
     "metadata": {},
     "output_type": "display_data"
    },
    {
     "data": {
      "text/html": [
       "<pre style=\"white-space:pre;overflow-x:auto;line-height:normal;font-family:Menlo,'DejaVu Sans Mono',consolas,'Courier New',monospace\"><span style=\"font-weight: bold\"> Non-trainable params: </span><span style=\"color: #00af00; text-decoration-color: #00af00\">0</span> (0.00 B)\n",
       "</pre>\n"
      ],
      "text/plain": [
       "\u001b[1m Non-trainable params: \u001b[0m\u001b[38;5;34m0\u001b[0m (0.00 B)\n"
      ]
     },
     "metadata": {},
     "output_type": "display_data"
    }
   ],
   "source": [
    "\n",
    "model = tf.keras.models.Sequential() # Se define el modelo secuencial\n",
    "\n",
    "model.add(tf.keras.layers.Input(shape=(784,)))             # Capa de entrada con forma (784,) que es el tamaño de las imágenes\n",
    "model.add(tf.keras.layers.Dense(512, activation='relu'))   # Capa oculta con 512 neuronas y función de activación relu y una capa de entrada de 784\n",
    "model.add(tf.keras.layers.Dense(10, activation='softmax')) # Capa de salida con 10 neuronas y función de activación softmax\n",
    "\n",
    "model.summary() # Muestra un resumen del modelo creado"
   ]
  },
  {
   "cell_type": "markdown",
   "metadata": {},
   "source": [
    "En este caso, no es necesario usar \"flatten\" debido a que su función ya la hice anteriormente de forma manual con el reshape."
   ]
  },
  {
   "cell_type": "markdown",
   "metadata": {},
   "source": [
    "### **Compilación y entrenamiento**"
   ]
  },
  {
   "cell_type": "markdown",
   "metadata": {},
   "source": [
    "Para la compilación del modelo usaré los siguientes parámetros:\n",
    "\n",
    "- **Adam**: Optimizador que se encarga de ajustar los pesos para mejorar la capacidad de la red de \"aprender\". Se adapta bien a diferentes problemas y es computacionalmente eficiente.\n",
    "\n",
    "- **Categorical Crossentropy**: Es una forma de medir cómo de equivocadas son las predicciones cuando se clasifica en varias categorías.\n",
    "\n",
    "- **Accuracy**: Monitoriza el porcentaje de aciertos en cada epoch, lo que permite ver la evolución del modelo durante el entrenamiento."
   ]
  },
  {
   "cell_type": "code",
   "execution_count": 187,
   "metadata": {},
   "outputs": [],
   "source": [
    "# Compilación del modelo\n",
    "model.compile(optimizer='adam',                # Optimizador\n",
    "              loss='categorical_crossentropy', # Función de pérdida\n",
    "              metrics=['accuracy'])            # Monitoriza la tasa de acierto durante el entrenamiento"
   ]
  },
  {
   "cell_type": "markdown",
   "metadata": {},
   "source": [
    "Para la compilación del modelo usaré los siguientes parámetros:\n",
    "\n",
    "- **Epochs**: Número de veces que el modelo pasará por el conjunto completo de entrenamiento, actualizando los pesos después de cada lote de datos (batch).\n",
    "\n",
    "- **Batch_size = 32**: Número de muestras que el modelo procesa antes de actualizar los pesos, es decir, procesará 32 imágenes y sus etiquetas a la vez antes de ajustar los pesos.\n",
    "\n",
    "- **Validation_split = 0.25**: Porcentaje de los datos de entrenamiento que se apartarán para validación. En este caso, el 25% de training_images y training_labels se utilizarán como datos de validación."
   ]
  },
  {
   "cell_type": "code",
   "execution_count": 190,
   "metadata": {},
   "outputs": [
    {
     "name": "stdout",
     "output_type": "stream",
     "text": [
      "Epoch 1/5\n",
      "\u001b[1m1407/1407\u001b[0m \u001b[32m━━━━━━━━━━━━━━━━━━━━\u001b[0m\u001b[37m\u001b[0m \u001b[1m4s\u001b[0m 3ms/step - accuracy: 0.9988 - loss: 0.0036 - val_accuracy: 0.9730 - val_loss: 0.1322\n",
      "Epoch 2/5\n",
      "\u001b[1m1407/1407\u001b[0m \u001b[32m━━━━━━━━━━━━━━━━━━━━\u001b[0m\u001b[37m\u001b[0m \u001b[1m5s\u001b[0m 3ms/step - accuracy: 0.9980 - loss: 0.0063 - val_accuracy: 0.9779 - val_loss: 0.1138\n",
      "Epoch 3/5\n",
      "\u001b[1m1407/1407\u001b[0m \u001b[32m━━━━━━━━━━━━━━━━━━━━\u001b[0m\u001b[37m\u001b[0m \u001b[1m6s\u001b[0m 4ms/step - accuracy: 0.9993 - loss: 0.0028 - val_accuracy: 0.9747 - val_loss: 0.1297\n",
      "Epoch 4/5\n",
      "\u001b[1m1407/1407\u001b[0m \u001b[32m━━━━━━━━━━━━━━━━━━━━\u001b[0m\u001b[37m\u001b[0m \u001b[1m5s\u001b[0m 4ms/step - accuracy: 0.9981 - loss: 0.0065 - val_accuracy: 0.9756 - val_loss: 0.1383\n",
      "Epoch 5/5\n",
      "\u001b[1m1407/1407\u001b[0m \u001b[32m━━━━━━━━━━━━━━━━━━━━\u001b[0m\u001b[37m\u001b[0m \u001b[1m5s\u001b[0m 3ms/step - accuracy: 0.9998 - loss: 0.0021 - val_accuracy: 0.9757 - val_loss: 0.1382\n"
     ]
    }
   ],
   "source": [
    "# Entrenamiento del modelo\n",
    "history = model.fit(training_images, training_labels, epochs=5, batch_size=32, validation_split=0.25)"
   ]
  },
  {
   "cell_type": "markdown",
   "metadata": {},
   "source": [
    "### **Impacto al variar el número de neuronas en las capas ocultas**"
   ]
  },
  {
   "cell_type": "markdown",
   "metadata": {},
   "source": [
    "Voy a experimentar con la red neuronal cambiando el numero de neuronas de 512 por otros valores para ver que variaciones sufre en su comportamiento."
   ]
  },
  {
   "cell_type": "markdown",
   "metadata": {},
   "source": [
    "#### Con 216 neuronas en la capa oculta"
   ]
  },
  {
   "cell_type": "code",
   "execution_count": 186,
   "metadata": {},
   "outputs": [
    {
     "name": "stdout",
     "output_type": "stream",
     "text": [
      "Epoch 1/5\n",
      "\u001b[1m1407/1407\u001b[0m \u001b[32m━━━━━━━━━━━━━━━━━━━━\u001b[0m\u001b[37m\u001b[0m \u001b[1m5s\u001b[0m 3ms/step - accuracy: 0.8741 - loss: 0.4415 - val_accuracy: 0.9581 - val_loss: 0.1424\n",
      "Epoch 2/5\n",
      "\u001b[1m1407/1407\u001b[0m \u001b[32m━━━━━━━━━━━━━━━━━━━━\u001b[0m\u001b[37m\u001b[0m \u001b[1m4s\u001b[0m 3ms/step - accuracy: 0.9643 - loss: 0.1189 - val_accuracy: 0.9657 - val_loss: 0.1156\n",
      "Epoch 3/5\n",
      "\u001b[1m1407/1407\u001b[0m \u001b[32m━━━━━━━━━━━━━━━━━━━━\u001b[0m\u001b[37m\u001b[0m \u001b[1m4s\u001b[0m 3ms/step - accuracy: 0.9764 - loss: 0.0752 - val_accuracy: 0.9699 - val_loss: 0.0982\n",
      "Epoch 4/5\n",
      "\u001b[1m1407/1407\u001b[0m \u001b[32m━━━━━━━━━━━━━━━━━━━━\u001b[0m\u001b[37m\u001b[0m \u001b[1m4s\u001b[0m 3ms/step - accuracy: 0.9851 - loss: 0.0504 - val_accuracy: 0.9724 - val_loss: 0.0921\n",
      "Epoch 5/5\n",
      "\u001b[1m1407/1407\u001b[0m \u001b[32m━━━━━━━━━━━━━━━━━━━━\u001b[0m\u001b[37m\u001b[0m \u001b[1m4s\u001b[0m 3ms/step - accuracy: 0.9891 - loss: 0.0367 - val_accuracy: 0.9739 - val_loss: 0.0889\n"
     ]
    }
   ],
   "source": [
    "# Se define el modelo secuencial\n",
    "model = tf.keras.models.Sequential([             # Esta vez lo defino como una lista (así evito el uso de add en cada paso)\n",
    "tf.keras.layers.Input(shape=(784,)),\n",
    "tf.keras.layers.Dense(216, activation='relu'),   # Coloco 216 neuronas en la capa oculta\n",
    "tf.keras.layers.Dense(10, activation='softmax')])\n",
    "\n",
    "# Compilación del modelo\n",
    "model.compile(optimizer='adam', loss='categorical_crossentropy', metrics=['accuracy'])\n",
    "\n",
    "# Entrenamiento del modelo\n",
    "history = model.fit(training_images, training_labels, epochs=5, batch_size=32, validation_split=0.25)\n"
   ]
  },
  {
   "cell_type": "markdown",
   "metadata": {},
   "source": [
    "#### Con 1024 neuronas en la capa oculta"
   ]
  },
  {
   "cell_type": "code",
   "execution_count": 183,
   "metadata": {},
   "outputs": [
    {
     "name": "stdout",
     "output_type": "stream",
     "text": [
      "Epoch 1/5\n",
      "\u001b[1m1407/1407\u001b[0m \u001b[32m━━━━━━━━━━━━━━━━━━━━\u001b[0m\u001b[37m\u001b[0m \u001b[1m10s\u001b[0m 7ms/step - accuracy: 0.8975 - loss: 0.3468 - val_accuracy: 0.9673 - val_loss: 0.1109\n",
      "Epoch 2/5\n",
      "\u001b[1m1407/1407\u001b[0m \u001b[32m━━━━━━━━━━━━━━━━━━━━\u001b[0m\u001b[37m\u001b[0m \u001b[1m10s\u001b[0m 7ms/step - accuracy: 0.9743 - loss: 0.0832 - val_accuracy: 0.9686 - val_loss: 0.1056\n",
      "Epoch 3/5\n",
      "\u001b[1m1407/1407\u001b[0m \u001b[32m━━━━━━━━━━━━━━━━━━━━\u001b[0m\u001b[37m\u001b[0m \u001b[1m10s\u001b[0m 7ms/step - accuracy: 0.9850 - loss: 0.0465 - val_accuracy: 0.9731 - val_loss: 0.0877\n",
      "Epoch 4/5\n",
      "\u001b[1m1407/1407\u001b[0m \u001b[32m━━━━━━━━━━━━━━━━━━━━\u001b[0m\u001b[37m\u001b[0m \u001b[1m10s\u001b[0m 7ms/step - accuracy: 0.9885 - loss: 0.0346 - val_accuracy: 0.9725 - val_loss: 0.0916\n",
      "Epoch 5/5\n",
      "\u001b[1m1407/1407\u001b[0m \u001b[32m━━━━━━━━━━━━━━━━━━━━\u001b[0m\u001b[37m\u001b[0m \u001b[1m10s\u001b[0m 7ms/step - accuracy: 0.9931 - loss: 0.0214 - val_accuracy: 0.9735 - val_loss: 0.0990\n"
     ]
    }
   ],
   "source": [
    "# Se define el modelo secuencial\n",
    "model = tf.keras.models.Sequential([\n",
    "tf.keras.layers.Input(shape=(784,)),\n",
    "tf.keras.layers.Dense(1024, activation='relu'), # Coloco 1024 neuronas en la capa oculta\n",
    "tf.keras.layers.Dense(10, activation='softmax')])\n",
    "\n",
    "# Compilación del modelo\n",
    "model.compile(optimizer='adam', loss='categorical_crossentropy', metrics=['accuracy'])\n",
    "\n",
    "# Entrenamiento del modelo\n",
    "history = model.fit(training_images, training_labels, epochs=5, batch_size=32, validation_split=0.25)\n"
   ]
  },
  {
   "cell_type": "markdown",
   "metadata": {},
   "source": [
    "#### Impacto de las variaciones"
   ]
  },
  {
   "cell_type": "markdown",
   "metadata": {},
   "source": [
    "Lo primero que se puede notar es que el tiempo de entrenamiento va aumentando conforme aumenta el número de neuronas, ya que aumentan el número de parámetros y por tanto de recursos necesarios.\n",
    "\n",
    "En términos de precisión se puede ver que con:\n",
    "\n",
    "- 216 neuronas: Se alcanza una precisión final de 97.39% y una loss de 0.0889. -> Mas eficiente en tiempo y precisión, respecto a los otros.\n",
    "- 512 neuronas: Se alcanza una precisión final de 97.57% y una loss de 0.1382, que va incrementándose en las últimas epochs (overfitting).\n",
    "- 1024 neuronas: Se alcanza una precisión final de 97.35% y una loss de 0.0990, que va incrementándose en las últimas epochs (overfitting).\n",
    "\n",
    "Por tanto, para este pequeño experimento se observa que aunque todos los modelos tienen una precisión muy similar, **añadir muchas más neuronas no siempre lleva a una mejora en el rendimiento**."
   ]
  },
  {
   "cell_type": "markdown",
   "metadata": {},
   "source": [
    "### **Reflexión sobre el número de neuronas de la capa de salida**"
   ]
  },
  {
   "cell_type": "markdown",
   "metadata": {},
   "source": [
    "- ¿Por qué son 10 las neuronas de la última capa? ¿Qué pasaría si tuvieras una cantidad diferente a 10?"
   ]
  },
  {
   "cell_type": "code",
   "execution_count": 191,
   "metadata": {},
   "outputs": [
    {
     "name": "stdout",
     "output_type": "stream",
     "text": [
      "Epoch 1/5\n"
     ]
    },
    {
     "ename": "ValueError",
     "evalue": "Arguments `target` and `output` must have the same shape. Received: target.shape=(None, 10), output.shape=(None, 5)",
     "output_type": "error",
     "traceback": [
      "\u001b[1;31m---------------------------------------------------------------------------\u001b[0m",
      "\u001b[1;31mValueError\u001b[0m                                Traceback (most recent call last)",
      "Cell \u001b[1;32mIn[191], line 13\u001b[0m\n\u001b[0;32m     10\u001b[0m model\u001b[38;5;241m.\u001b[39mcompile(optimizer\u001b[38;5;241m=\u001b[39m\u001b[38;5;124m'\u001b[39m\u001b[38;5;124madam\u001b[39m\u001b[38;5;124m'\u001b[39m, loss\u001b[38;5;241m=\u001b[39m\u001b[38;5;124m'\u001b[39m\u001b[38;5;124mcategorical_crossentropy\u001b[39m\u001b[38;5;124m'\u001b[39m, metrics\u001b[38;5;241m=\u001b[39m[\u001b[38;5;124m'\u001b[39m\u001b[38;5;124maccuracy\u001b[39m\u001b[38;5;124m'\u001b[39m])\n\u001b[0;32m     12\u001b[0m \u001b[38;5;66;03m# Entrenamiento del modelo\u001b[39;00m\n\u001b[1;32m---> 13\u001b[0m history \u001b[38;5;241m=\u001b[39m \u001b[43mmodel\u001b[49m\u001b[38;5;241;43m.\u001b[39;49m\u001b[43mfit\u001b[49m\u001b[43m(\u001b[49m\u001b[43mtraining_images\u001b[49m\u001b[43m,\u001b[49m\u001b[43m \u001b[49m\u001b[43mtraining_labels\u001b[49m\u001b[43m,\u001b[49m\u001b[43m \u001b[49m\u001b[43mepochs\u001b[49m\u001b[38;5;241;43m=\u001b[39;49m\u001b[38;5;241;43m5\u001b[39;49m\u001b[43m,\u001b[49m\u001b[43m \u001b[49m\u001b[43mbatch_size\u001b[49m\u001b[38;5;241;43m=\u001b[39;49m\u001b[38;5;241;43m32\u001b[39;49m\u001b[43m,\u001b[49m\u001b[43m \u001b[49m\u001b[43mvalidation_split\u001b[49m\u001b[38;5;241;43m=\u001b[39;49m\u001b[38;5;241;43m0.25\u001b[39;49m\u001b[43m)\u001b[49m\n",
      "File \u001b[1;32mc:\\Users\\Ruben\\AppData\\Local\\Programs\\Python\\Python311\\Lib\\site-packages\\keras\\src\\utils\\traceback_utils.py:122\u001b[0m, in \u001b[0;36mfilter_traceback.<locals>.error_handler\u001b[1;34m(*args, **kwargs)\u001b[0m\n\u001b[0;32m    119\u001b[0m     filtered_tb \u001b[38;5;241m=\u001b[39m _process_traceback_frames(e\u001b[38;5;241m.\u001b[39m__traceback__)\n\u001b[0;32m    120\u001b[0m     \u001b[38;5;66;03m# To get the full stack trace, call:\u001b[39;00m\n\u001b[0;32m    121\u001b[0m     \u001b[38;5;66;03m# `keras.config.disable_traceback_filtering()`\u001b[39;00m\n\u001b[1;32m--> 122\u001b[0m     \u001b[38;5;28;01mraise\u001b[39;00m e\u001b[38;5;241m.\u001b[39mwith_traceback(filtered_tb) \u001b[38;5;28;01mfrom\u001b[39;00m\u001b[38;5;250m \u001b[39m\u001b[38;5;28;01mNone\u001b[39;00m\n\u001b[0;32m    123\u001b[0m \u001b[38;5;28;01mfinally\u001b[39;00m:\n\u001b[0;32m    124\u001b[0m     \u001b[38;5;28;01mdel\u001b[39;00m filtered_tb\n",
      "File \u001b[1;32mc:\\Users\\Ruben\\AppData\\Local\\Programs\\Python\\Python311\\Lib\\site-packages\\keras\\src\\backend\\tensorflow\\nn.py:660\u001b[0m, in \u001b[0;36mcategorical_crossentropy\u001b[1;34m(target, output, from_logits, axis)\u001b[0m\n\u001b[0;32m    658\u001b[0m \u001b[38;5;28;01mfor\u001b[39;00m e1, e2 \u001b[38;5;129;01min\u001b[39;00m \u001b[38;5;28mzip\u001b[39m(target\u001b[38;5;241m.\u001b[39mshape, output\u001b[38;5;241m.\u001b[39mshape):\n\u001b[0;32m    659\u001b[0m     \u001b[38;5;28;01mif\u001b[39;00m e1 \u001b[38;5;129;01mis\u001b[39;00m \u001b[38;5;129;01mnot\u001b[39;00m \u001b[38;5;28;01mNone\u001b[39;00m \u001b[38;5;129;01mand\u001b[39;00m e2 \u001b[38;5;129;01mis\u001b[39;00m \u001b[38;5;129;01mnot\u001b[39;00m \u001b[38;5;28;01mNone\u001b[39;00m \u001b[38;5;129;01mand\u001b[39;00m e1 \u001b[38;5;241m!=\u001b[39m e2:\n\u001b[1;32m--> 660\u001b[0m         \u001b[38;5;28;01mraise\u001b[39;00m \u001b[38;5;167;01mValueError\u001b[39;00m(\n\u001b[0;32m    661\u001b[0m             \u001b[38;5;124m\"\u001b[39m\u001b[38;5;124mArguments `target` and `output` must have the same shape. \u001b[39m\u001b[38;5;124m\"\u001b[39m\n\u001b[0;32m    662\u001b[0m             \u001b[38;5;124m\"\u001b[39m\u001b[38;5;124mReceived: \u001b[39m\u001b[38;5;124m\"\u001b[39m\n\u001b[0;32m    663\u001b[0m             \u001b[38;5;124mf\u001b[39m\u001b[38;5;124m\"\u001b[39m\u001b[38;5;124mtarget.shape=\u001b[39m\u001b[38;5;132;01m{\u001b[39;00mtarget\u001b[38;5;241m.\u001b[39mshape\u001b[38;5;132;01m}\u001b[39;00m\u001b[38;5;124m, output.shape=\u001b[39m\u001b[38;5;132;01m{\u001b[39;00moutput\u001b[38;5;241m.\u001b[39mshape\u001b[38;5;132;01m}\u001b[39;00m\u001b[38;5;124m\"\u001b[39m\n\u001b[0;32m    664\u001b[0m         )\n\u001b[0;32m    666\u001b[0m output, from_logits \u001b[38;5;241m=\u001b[39m _get_logits(\n\u001b[0;32m    667\u001b[0m     output, from_logits, \u001b[38;5;124m\"\u001b[39m\u001b[38;5;124mSoftmax\u001b[39m\u001b[38;5;124m\"\u001b[39m, \u001b[38;5;124m\"\u001b[39m\u001b[38;5;124mcategorical_crossentropy\u001b[39m\u001b[38;5;124m\"\u001b[39m\n\u001b[0;32m    668\u001b[0m )\n\u001b[0;32m    669\u001b[0m \u001b[38;5;28;01mif\u001b[39;00m from_logits:\n",
      "\u001b[1;31mValueError\u001b[0m: Arguments `target` and `output` must have the same shape. Received: target.shape=(None, 10), output.shape=(None, 5)"
     ]
    }
   ],
   "source": [
    "# Red neuronal con 5 neuronas en la capa de salida en vez de 10\n",
    "\n",
    "# Se define el modelo\n",
    "model = tf.keras.models.Sequential([\n",
    "tf.keras.layers.Input(shape=(784,)),\n",
    "tf.keras.layers.Dense(512, activation='relu'),\n",
    "tf.keras.layers.Dense(5, activation='softmax')]) # Con 5 neuronas en la capa de salida en vez de 10\n",
    "\n",
    "# Compilación del modelo\n",
    "model.compile(optimizer='adam', loss='categorical_crossentropy', metrics=['accuracy'])\n",
    "\n",
    "# Entrenamiento del modelo\n",
    "history = model.fit(training_images, training_labels, epochs=5, batch_size=32, validation_split=0.25)\n"
   ]
  },
  {
   "cell_type": "markdown",
   "metadata": {},
   "source": [
    "#### ¿Por qué son 10 las neuronas de la última capa?\n",
    "\n",
    "Porque cada una de esas neuronas representa un dígito, ya que que tenemos 10 posibles dígitos/salidas (0 a 9), en función de qué dígito identifique activará una salida u otra.\n",
    "\n",
    "Esto se ve en el propio código que al cambiarlo a 5 neuronas de salida, un error nos indica que deben ser 10.\n"
   ]
  },
  {
   "cell_type": "markdown",
   "metadata": {},
   "source": [
    "#### ¿Qué pasaría si tuviera una cantidad diferente a 10?\n",
    "\n",
    "- Si la última capa fuera un número mayor a 10 la red podría llegar a clasificar erróneamente los dígitos, ya que habría más salidas de las necesarias.\n",
    "\n",
    "- Si la última capa fuera un número menor a 10 la red no podría clasificar todos los dígitos de forma precisa, haciendo que algunos dígitos compartieran una misma neurona de salida. Por ejemplo, con 5 neuronas de salida (0 a 4), la imagen que representa un 7, al no tener su neurona de salida, buscará la \"más parecida\" y probablemente lo acabe clasificando erróneamente como un 1 o un 2."
   ]
  },
  {
   "cell_type": "markdown",
   "metadata": {},
   "source": [
    "### **Impacto al variar el número de epochs**"
   ]
  },
  {
   "cell_type": "markdown",
   "metadata": {},
   "source": [
    "Esta vez voy a experimentar con la red neuronal cambiando el numero de epochs de 5 por otros valores para ver que variaciones sufre en su comportamiento."
   ]
  },
  {
   "cell_type": "markdown",
   "metadata": {},
   "source": [
    "#### Con 15 epochs"
   ]
  },
  {
   "cell_type": "code",
   "execution_count": 150,
   "metadata": {},
   "outputs": [
    {
     "name": "stdout",
     "output_type": "stream",
     "text": [
      "Epoch 1/15\n",
      "\u001b[1m1407/1407\u001b[0m \u001b[32m━━━━━━━━━━━━━━━━━━━━\u001b[0m\u001b[37m\u001b[0m \u001b[1m7s\u001b[0m 5ms/step - accuracy: 0.8864 - loss: 0.3849 - val_accuracy: 0.9603 - val_loss: 0.1359\n",
      "Epoch 2/15\n",
      "\u001b[1m1407/1407\u001b[0m \u001b[32m━━━━━━━━━━━━━━━━━━━━\u001b[0m\u001b[37m\u001b[0m \u001b[1m6s\u001b[0m 4ms/step - accuracy: 0.9718 - loss: 0.0913 - val_accuracy: 0.9699 - val_loss: 0.0972\n",
      "Epoch 3/15\n",
      "\u001b[1m1407/1407\u001b[0m \u001b[32m━━━━━━━━━━━━━━━━━━━━\u001b[0m\u001b[37m\u001b[0m \u001b[1m6s\u001b[0m 5ms/step - accuracy: 0.9834 - loss: 0.0544 - val_accuracy: 0.9721 - val_loss: 0.0948\n",
      "Epoch 4/15\n",
      "\u001b[1m1407/1407\u001b[0m \u001b[32m━━━━━━━━━━━━━━━━━━━━\u001b[0m\u001b[37m\u001b[0m \u001b[1m6s\u001b[0m 4ms/step - accuracy: 0.9882 - loss: 0.0371 - val_accuracy: 0.9722 - val_loss: 0.0969\n",
      "Epoch 5/15\n",
      "\u001b[1m1407/1407\u001b[0m \u001b[32m━━━━━━━━━━━━━━━━━━━━\u001b[0m\u001b[37m\u001b[0m \u001b[1m6s\u001b[0m 4ms/step - accuracy: 0.9914 - loss: 0.0259 - val_accuracy: 0.9733 - val_loss: 0.0950\n",
      "Epoch 6/15\n",
      "\u001b[1m1407/1407\u001b[0m \u001b[32m━━━━━━━━━━━━━━━━━━━━\u001b[0m\u001b[37m\u001b[0m \u001b[1m10s\u001b[0m 4ms/step - accuracy: 0.9937 - loss: 0.0194 - val_accuracy: 0.9758 - val_loss: 0.1012\n",
      "Epoch 7/15\n",
      "\u001b[1m1407/1407\u001b[0m \u001b[32m━━━━━━━━━━━━━━━━━━━━\u001b[0m\u001b[37m\u001b[0m \u001b[1m6s\u001b[0m 4ms/step - accuracy: 0.9948 - loss: 0.0168 - val_accuracy: 0.9732 - val_loss: 0.1002\n",
      "Epoch 8/15\n",
      "\u001b[1m1407/1407\u001b[0m \u001b[32m━━━━━━━━━━━━━━━━━━━━\u001b[0m\u001b[37m\u001b[0m \u001b[1m6s\u001b[0m 4ms/step - accuracy: 0.9955 - loss: 0.0132 - val_accuracy: 0.9760 - val_loss: 0.0986\n",
      "Epoch 9/15\n",
      "\u001b[1m1407/1407\u001b[0m \u001b[32m━━━━━━━━━━━━━━━━━━━━\u001b[0m\u001b[37m\u001b[0m \u001b[1m6s\u001b[0m 4ms/step - accuracy: 0.9968 - loss: 0.0104 - val_accuracy: 0.9733 - val_loss: 0.1153\n",
      "Epoch 10/15\n",
      "\u001b[1m1407/1407\u001b[0m \u001b[32m━━━━━━━━━━━━━━━━━━━━\u001b[0m\u001b[37m\u001b[0m \u001b[1m6s\u001b[0m 5ms/step - accuracy: 0.9965 - loss: 0.0105 - val_accuracy: 0.9763 - val_loss: 0.1096\n",
      "Epoch 11/15\n",
      "\u001b[1m1407/1407\u001b[0m \u001b[32m━━━━━━━━━━━━━━━━━━━━\u001b[0m\u001b[37m\u001b[0m \u001b[1m6s\u001b[0m 5ms/step - accuracy: 0.9976 - loss: 0.0079 - val_accuracy: 0.9776 - val_loss: 0.1024\n",
      "Epoch 12/15\n",
      "\u001b[1m1407/1407\u001b[0m \u001b[32m━━━━━━━━━━━━━━━━━━━━\u001b[0m\u001b[37m\u001b[0m \u001b[1m6s\u001b[0m 5ms/step - accuracy: 0.9984 - loss: 0.0051 - val_accuracy: 0.9754 - val_loss: 0.1120\n",
      "Epoch 13/15\n",
      "\u001b[1m1407/1407\u001b[0m \u001b[32m━━━━━━━━━━━━━━━━━━━━\u001b[0m\u001b[37m\u001b[0m \u001b[1m7s\u001b[0m 5ms/step - accuracy: 0.9972 - loss: 0.0080 - val_accuracy: 0.9791 - val_loss: 0.1048\n",
      "Epoch 14/15\n",
      "\u001b[1m1407/1407\u001b[0m \u001b[32m━━━━━━━━━━━━━━━━━━━━\u001b[0m\u001b[37m\u001b[0m \u001b[1m6s\u001b[0m 5ms/step - accuracy: 0.9980 - loss: 0.0068 - val_accuracy: 0.9771 - val_loss: 0.1202\n",
      "Epoch 15/15\n",
      "\u001b[1m1407/1407\u001b[0m \u001b[32m━━━━━━━━━━━━━━━━━━━━\u001b[0m\u001b[37m\u001b[0m \u001b[1m7s\u001b[0m 5ms/step - accuracy: 0.9980 - loss: 0.0060 - val_accuracy: 0.9785 - val_loss: 0.1139\n"
     ]
    }
   ],
   "source": [
    "# Código para 15 epoch\n",
    "\n",
    "# Se define el modelo secuencial\n",
    "model = tf.keras.models.Sequential([\n",
    "tf.keras.layers.Input(shape=(784,)),\n",
    "tf.keras.layers.Dense(512, activation='relu'), \n",
    "tf.keras.layers.Dense(10, activation='softmax')])\n",
    "\n",
    "# Compilación del modelo\n",
    "model.compile(optimizer='adam', loss='categorical_crossentropy', metrics=['accuracy'])\n",
    "\n",
    "# Entrenamiento del modelo\n",
    "history = model.fit(training_images, training_labels, epochs=15, batch_size=32, validation_split=0.25) # Coloco 15 epochs en vez de 5\n"
   ]
  },
  {
   "cell_type": "markdown",
   "metadata": {},
   "source": [
    "#### Con 30 epochs"
   ]
  },
  {
   "cell_type": "code",
   "execution_count": 151,
   "metadata": {},
   "outputs": [
    {
     "name": "stdout",
     "output_type": "stream",
     "text": [
      "Epoch 1/30\n",
      "\u001b[1m1407/1407\u001b[0m \u001b[32m━━━━━━━━━━━━━━━━━━━━\u001b[0m\u001b[37m\u001b[0m \u001b[1m7s\u001b[0m 5ms/step - accuracy: 0.8837 - loss: 0.3908 - val_accuracy: 0.9619 - val_loss: 0.1291\n",
      "Epoch 2/30\n",
      "\u001b[1m1407/1407\u001b[0m \u001b[32m━━━━━━━━━━━━━━━━━━━━\u001b[0m\u001b[37m\u001b[0m \u001b[1m6s\u001b[0m 4ms/step - accuracy: 0.9720 - loss: 0.0941 - val_accuracy: 0.9709 - val_loss: 0.0976\n",
      "Epoch 3/30\n",
      "\u001b[1m1407/1407\u001b[0m \u001b[32m━━━━━━━━━━━━━━━━━━━━\u001b[0m\u001b[37m\u001b[0m \u001b[1m6s\u001b[0m 4ms/step - accuracy: 0.9844 - loss: 0.0540 - val_accuracy: 0.9753 - val_loss: 0.0814\n",
      "Epoch 4/30\n",
      "\u001b[1m1407/1407\u001b[0m \u001b[32m━━━━━━━━━━━━━━━━━━━━\u001b[0m\u001b[37m\u001b[0m \u001b[1m6s\u001b[0m 4ms/step - accuracy: 0.9892 - loss: 0.0352 - val_accuracy: 0.9732 - val_loss: 0.0884\n",
      "Epoch 5/30\n",
      "\u001b[1m1407/1407\u001b[0m \u001b[32m━━━━━━━━━━━━━━━━━━━━\u001b[0m\u001b[37m\u001b[0m \u001b[1m6s\u001b[0m 4ms/step - accuracy: 0.9909 - loss: 0.0285 - val_accuracy: 0.9750 - val_loss: 0.0909\n",
      "Epoch 6/30\n",
      "\u001b[1m1407/1407\u001b[0m \u001b[32m━━━━━━━━━━━━━━━━━━━━\u001b[0m\u001b[37m\u001b[0m \u001b[1m6s\u001b[0m 4ms/step - accuracy: 0.9929 - loss: 0.0216 - val_accuracy: 0.9759 - val_loss: 0.0882\n",
      "Epoch 7/30\n",
      "\u001b[1m1407/1407\u001b[0m \u001b[32m━━━━━━━━━━━━━━━━━━━━\u001b[0m\u001b[37m\u001b[0m \u001b[1m6s\u001b[0m 4ms/step - accuracy: 0.9955 - loss: 0.0143 - val_accuracy: 0.9746 - val_loss: 0.1019\n",
      "Epoch 8/30\n",
      "\u001b[1m1407/1407\u001b[0m \u001b[32m━━━━━━━━━━━━━━━━━━━━\u001b[0m\u001b[37m\u001b[0m \u001b[1m6s\u001b[0m 4ms/step - accuracy: 0.9964 - loss: 0.0116 - val_accuracy: 0.9772 - val_loss: 0.0929\n",
      "Epoch 9/30\n",
      "\u001b[1m1407/1407\u001b[0m \u001b[32m━━━━━━━━━━━━━━━━━━━━\u001b[0m\u001b[37m\u001b[0m \u001b[1m6s\u001b[0m 4ms/step - accuracy: 0.9968 - loss: 0.0106 - val_accuracy: 0.9749 - val_loss: 0.1110\n",
      "Epoch 10/30\n",
      "\u001b[1m1407/1407\u001b[0m \u001b[32m━━━━━━━━━━━━━━━━━━━━\u001b[0m\u001b[37m\u001b[0m \u001b[1m6s\u001b[0m 4ms/step - accuracy: 0.9961 - loss: 0.0123 - val_accuracy: 0.9771 - val_loss: 0.1061\n",
      "Epoch 11/30\n",
      "\u001b[1m1407/1407\u001b[0m \u001b[32m━━━━━━━━━━━━━━━━━━━━\u001b[0m\u001b[37m\u001b[0m \u001b[1m6s\u001b[0m 4ms/step - accuracy: 0.9971 - loss: 0.0087 - val_accuracy: 0.9763 - val_loss: 0.1095\n",
      "Epoch 12/30\n",
      "\u001b[1m1407/1407\u001b[0m \u001b[32m━━━━━━━━━━━━━━━━━━━━\u001b[0m\u001b[37m\u001b[0m \u001b[1m6s\u001b[0m 4ms/step - accuracy: 0.9977 - loss: 0.0069 - val_accuracy: 0.9770 - val_loss: 0.1188\n",
      "Epoch 13/30\n",
      "\u001b[1m1407/1407\u001b[0m \u001b[32m━━━━━━━━━━━━━━━━━━━━\u001b[0m\u001b[37m\u001b[0m \u001b[1m6s\u001b[0m 5ms/step - accuracy: 0.9966 - loss: 0.0100 - val_accuracy: 0.9779 - val_loss: 0.1092\n",
      "Epoch 14/30\n",
      "\u001b[1m1407/1407\u001b[0m \u001b[32m━━━━━━━━━━━━━━━━━━━━\u001b[0m\u001b[37m\u001b[0m \u001b[1m6s\u001b[0m 4ms/step - accuracy: 0.9977 - loss: 0.0064 - val_accuracy: 0.9769 - val_loss: 0.1179\n",
      "Epoch 15/30\n",
      "\u001b[1m1407/1407\u001b[0m \u001b[32m━━━━━━━━━━━━━━━━━━━━\u001b[0m\u001b[37m\u001b[0m \u001b[1m6s\u001b[0m 4ms/step - accuracy: 0.9988 - loss: 0.0040 - val_accuracy: 0.9761 - val_loss: 0.1371\n",
      "Epoch 16/30\n",
      "\u001b[1m1407/1407\u001b[0m \u001b[32m━━━━━━━━━━━━━━━━━━━━\u001b[0m\u001b[37m\u001b[0m \u001b[1m6s\u001b[0m 5ms/step - accuracy: 0.9976 - loss: 0.0076 - val_accuracy: 0.9791 - val_loss: 0.1183\n",
      "Epoch 17/30\n",
      "\u001b[1m1407/1407\u001b[0m \u001b[32m━━━━━━━━━━━━━━━━━━━━\u001b[0m\u001b[37m\u001b[0m \u001b[1m6s\u001b[0m 4ms/step - accuracy: 0.9982 - loss: 0.0057 - val_accuracy: 0.9781 - val_loss: 0.1323\n",
      "Epoch 18/30\n",
      "\u001b[1m1407/1407\u001b[0m \u001b[32m━━━━━━━━━━━━━━━━━━━━\u001b[0m\u001b[37m\u001b[0m \u001b[1m6s\u001b[0m 4ms/step - accuracy: 0.9975 - loss: 0.0078 - val_accuracy: 0.9783 - val_loss: 0.1246\n",
      "Epoch 19/30\n",
      "\u001b[1m1407/1407\u001b[0m \u001b[32m━━━━━━━━━━━━━━━━━━━━\u001b[0m\u001b[37m\u001b[0m \u001b[1m6s\u001b[0m 4ms/step - accuracy: 0.9992 - loss: 0.0027 - val_accuracy: 0.9771 - val_loss: 0.1464\n",
      "Epoch 20/30\n",
      "\u001b[1m1407/1407\u001b[0m \u001b[32m━━━━━━━━━━━━━━━━━━━━\u001b[0m\u001b[37m\u001b[0m \u001b[1m6s\u001b[0m 4ms/step - accuracy: 0.9980 - loss: 0.0066 - val_accuracy: 0.9796 - val_loss: 0.1306\n",
      "Epoch 21/30\n",
      "\u001b[1m1407/1407\u001b[0m \u001b[32m━━━━━━━━━━━━━━━━━━━━\u001b[0m\u001b[37m\u001b[0m \u001b[1m6s\u001b[0m 4ms/step - accuracy: 0.9994 - loss: 0.0019 - val_accuracy: 0.9755 - val_loss: 0.1567\n",
      "Epoch 22/30\n",
      "\u001b[1m1407/1407\u001b[0m \u001b[32m━━━━━━━━━━━━━━━━━━━━\u001b[0m\u001b[37m\u001b[0m \u001b[1m6s\u001b[0m 4ms/step - accuracy: 0.9977 - loss: 0.0072 - val_accuracy: 0.9766 - val_loss: 0.1572\n",
      "Epoch 23/30\n",
      "\u001b[1m1407/1407\u001b[0m \u001b[32m━━━━━━━━━━━━━━━━━━━━\u001b[0m\u001b[37m\u001b[0m \u001b[1m6s\u001b[0m 4ms/step - accuracy: 0.9982 - loss: 0.0054 - val_accuracy: 0.9793 - val_loss: 0.1348\n",
      "Epoch 24/30\n",
      "\u001b[1m1407/1407\u001b[0m \u001b[32m━━━━━━━━━━━━━━━━━━━━\u001b[0m\u001b[37m\u001b[0m \u001b[1m6s\u001b[0m 4ms/step - accuracy: 0.9987 - loss: 0.0049 - val_accuracy: 0.9785 - val_loss: 0.1377\n",
      "Epoch 25/30\n",
      "\u001b[1m1407/1407\u001b[0m \u001b[32m━━━━━━━━━━━━━━━━━━━━\u001b[0m\u001b[37m\u001b[0m \u001b[1m6s\u001b[0m 4ms/step - accuracy: 0.9986 - loss: 0.0045 - val_accuracy: 0.9761 - val_loss: 0.1684\n",
      "Epoch 26/30\n",
      "\u001b[1m1407/1407\u001b[0m \u001b[32m━━━━━━━━━━━━━━━━━━━━\u001b[0m\u001b[37m\u001b[0m \u001b[1m6s\u001b[0m 4ms/step - accuracy: 0.9985 - loss: 0.0052 - val_accuracy: 0.9801 - val_loss: 0.1376\n",
      "Epoch 27/30\n",
      "\u001b[1m1407/1407\u001b[0m \u001b[32m━━━━━━━━━━━━━━━━━━━━\u001b[0m\u001b[37m\u001b[0m \u001b[1m6s\u001b[0m 4ms/step - accuracy: 0.9996 - loss: 0.0012 - val_accuracy: 0.9722 - val_loss: 0.2004\n",
      "Epoch 28/30\n",
      "\u001b[1m1407/1407\u001b[0m \u001b[32m━━━━━━━━━━━━━━━━━━━━\u001b[0m\u001b[37m\u001b[0m \u001b[1m6s\u001b[0m 4ms/step - accuracy: 0.9975 - loss: 0.0077 - val_accuracy: 0.9799 - val_loss: 0.1432\n",
      "Epoch 29/30\n",
      "\u001b[1m1407/1407\u001b[0m \u001b[32m━━━━━━━━━━━━━━━━━━━━\u001b[0m\u001b[37m\u001b[0m \u001b[1m6s\u001b[0m 5ms/step - accuracy: 0.9995 - loss: 0.0017 - val_accuracy: 0.9785 - val_loss: 0.1695\n",
      "Epoch 30/30\n",
      "\u001b[1m1407/1407\u001b[0m \u001b[32m━━━━━━━━━━━━━━━━━━━━\u001b[0m\u001b[37m\u001b[0m \u001b[1m6s\u001b[0m 4ms/step - accuracy: 0.9988 - loss: 0.0033 - val_accuracy: 0.9769 - val_loss: 0.1866\n"
     ]
    }
   ],
   "source": [
    "# Código para 30 epoch\n",
    "\n",
    "# Se define el modelo secuencial\n",
    "model = tf.keras.models.Sequential([\n",
    "tf.keras.layers.Input(shape=(784,)),\n",
    "tf.keras.layers.Dense(512, activation='relu'), \n",
    "tf.keras.layers.Dense(10, activation='softmax')])\n",
    "\n",
    "# Compilación del modelo\n",
    "model.compile(optimizer='adam', loss='categorical_crossentropy', metrics=['accuracy'])\n",
    "\n",
    "# Entrenamiento del modelo\n",
    "history = model.fit(training_images, training_labels, epochs=30, batch_size=32, validation_split=0.25) # Coloco 30 epochs en vez de 5\n"
   ]
  },
  {
   "cell_type": "markdown",
   "metadata": {},
   "source": [
    "#### Impacto de las variaciones"
   ]
  },
  {
   "cell_type": "markdown",
   "metadata": {},
   "source": [
    "El aumento de epochs en ambos casos ha provocado el mismo efecto, pero con 30 se ve aún más marcado. Al inicio de los entrenamientos la precisión del modelo va mejorando, pero llega un momento en el que añadir tantas epoch causa que el modelo pierda su capacidad para generalizar y se ajusta demasiado a los datos de entrenamiento. Esto se ve en que la pérdida de validación comienza a aumentar, mientras que la pérdida de entrenamiento sigue disminuyendo y la precisión se acerca al 100%. \n",
    "\n",
    "A este efecto se le conoce como sobreajuste."
   ]
  },
  {
   "cell_type": "markdown",
   "metadata": {},
   "source": [
    "### **Early Stopping**"
   ]
  },
  {
   "cell_type": "markdown",
   "metadata": {},
   "source": [
    "En el apartado anterior, cuando entrené con epoch extras, pensé \"estaría bien si pudiera parar el entrenamiento cuando alcance un valor deseado\", es decir, una precisión del 87% podría ser suficiente, y si alcanzo eso después de 3 epoch, ¿por qué seguir esperando a que termine muchas más?, además de esta forma podría prevenir también un overfitting excesivo.\n",
    "\n",
    "Afortunadamente, Keras ofrece herramientas que nos permiten controlar y optimizar el proceso de entrenamiento, como callbacks, entre los que destaca **EarlyStopping**."
   ]
  },
  {
   "cell_type": "markdown",
   "metadata": {},
   "source": [
    "Los callbacks son funciones o clases que permiten ejecutar acciones específicas durante el entrenamiento.\n",
    "\n",
    "EarlyStopping de Keras es un callback que monitorea una métrica durante el entrenamiento y lo detiene cuando la métrica deja de mejorar. Sus parámetros principales son:\n",
    "\n",
    "- **Monitor**: Especifica la métrica a monitorear\n",
    "\n",
    "- **Patience**: Número de épocas extras que entrenará el modelo después de detectar que la métrica monitoreada dejó de mejorar.\n",
    "\n",
    "- **Restore_best_weights = True**: Cuando se detiene el entrenamiento, restaura los pesos del modelo al estado de la mejor época (la que tenía el valor óptimo de la métrica monitoreada). Asegura que no se use un modelo con un rendimiento peor (que podría haberse entrenado de más)."
   ]
  },
  {
   "cell_type": "code",
   "execution_count": null,
   "metadata": {},
   "outputs": [
    {
     "name": "stdout",
     "output_type": "stream",
     "text": [
      "Epoch 1/40\n",
      "\u001b[1m1407/1407\u001b[0m \u001b[32m━━━━━━━━━━━━━━━━━━━━\u001b[0m\u001b[37m\u001b[0m \u001b[1m8s\u001b[0m 5ms/step - accuracy: 0.8884 - loss: 0.3821 - val_accuracy: 0.9617 - val_loss: 0.1274\n",
      "Epoch 2/40\n",
      "\u001b[1m1407/1407\u001b[0m \u001b[32m━━━━━━━━━━━━━━━━━━━━\u001b[0m\u001b[37m\u001b[0m \u001b[1m7s\u001b[0m 5ms/step - accuracy: 0.9706 - loss: 0.0977 - val_accuracy: 0.9672 - val_loss: 0.1065\n",
      "Epoch 3/40\n",
      "\u001b[1m1407/1407\u001b[0m \u001b[32m━━━━━━━━━━━━━━━━━━━━\u001b[0m\u001b[37m\u001b[0m \u001b[1m7s\u001b[0m 5ms/step - accuracy: 0.9824 - loss: 0.0585 - val_accuracy: 0.9693 - val_loss: 0.0991\n",
      "Epoch 4/40\n",
      "\u001b[1m1407/1407\u001b[0m \u001b[32m━━━━━━━━━━━━━━━━━━━━\u001b[0m\u001b[37m\u001b[0m \u001b[1m6s\u001b[0m 5ms/step - accuracy: 0.9882 - loss: 0.0381 - val_accuracy: 0.9679 - val_loss: 0.1020\n",
      "Epoch 5/40\n",
      "\u001b[1m1407/1407\u001b[0m \u001b[32m━━━━━━━━━━━━━━━━━━━━\u001b[0m\u001b[37m\u001b[0m \u001b[1m6s\u001b[0m 5ms/step - accuracy: 0.9928 - loss: 0.0246 - val_accuracy: 0.9725 - val_loss: 0.1034\n",
      "Epoch 6/40\n",
      "\u001b[1m1407/1407\u001b[0m \u001b[32m━━━━━━━━━━━━━━━━━━━━\u001b[0m\u001b[37m\u001b[0m \u001b[1m7s\u001b[0m 5ms/step - accuracy: 0.9944 - loss: 0.0175 - val_accuracy: 0.9763 - val_loss: 0.0852\n",
      "Epoch 7/40\n",
      "\u001b[1m1407/1407\u001b[0m \u001b[32m━━━━━━━━━━━━━━━━━━━━\u001b[0m\u001b[37m\u001b[0m \u001b[1m7s\u001b[0m 5ms/step - accuracy: 0.9962 - loss: 0.0128 - val_accuracy: 0.9745 - val_loss: 0.1008\n",
      "Epoch 8/40\n",
      "\u001b[1m1407/1407\u001b[0m \u001b[32m━━━━━━━━━━━━━━━━━━━━\u001b[0m\u001b[37m\u001b[0m \u001b[1m7s\u001b[0m 5ms/step - accuracy: 0.9963 - loss: 0.0121 - val_accuracy: 0.9728 - val_loss: 0.1208\n",
      "Epoch 9/40\n",
      "\u001b[1m1407/1407\u001b[0m \u001b[32m━━━━━━━━━━━━━━━━━━━━\u001b[0m\u001b[37m\u001b[0m \u001b[1m6s\u001b[0m 5ms/step - accuracy: 0.9947 - loss: 0.0155 - val_accuracy: 0.9769 - val_loss: 0.1023\n"
     ]
    }
   ],
   "source": [
    "from tensorflow.keras.callbacks import EarlyStopping # Importar la clase EarlyStopping incluida en Keras\n",
    "\n",
    "# Defino el modelo secuencial\n",
    "model = tf.keras.models.Sequential([\n",
    "tf.keras.layers.Input(shape=(784,)),\n",
    "tf.keras.layers.Dense(512, activation='relu'),\n",
    "tf.keras.layers.Dense(10, activation='softmax')])\n",
    "\n",
    "# Compilación del modelo\n",
    "model.compile(optimizer='adam', loss='categorical_crossentropy', metrics=['accuracy'])\n",
    "\n",
    "# Configuración de Early Stopping\n",
    "early_stop = EarlyStopping(\n",
    "    monitor='val_loss',        # Monitorea la pérdida en el conjunto de validación\n",
    "    patience=3,                # Detiene el entrenamiento si no mejora en 3 épocas consecutivas\n",
    "    restore_best_weights=True  # Restaura los pesos de la mejor época al final\n",
    ")\n",
    "\n",
    "# Entrenamiento del modelo con Early Stopping\n",
    "history = model.fit(\n",
    "    training_images, \n",
    "    training_labels, \n",
    "    epochs=40,                # Configuro un número alto de épocas; EarlyStopping decidirá cuándo detenerse\n",
    "    batch_size=32, \n",
    "    validation_split=0.25, \n",
    "    callbacks=[early_stop]    # Agrego el callback de Early Stopping\n",
    ")\n"
   ]
  },
  {
   "cell_type": "markdown",
   "metadata": {},
   "source": [
    "A pesar de tener más epochs pendientes de realizar se detiene en cuanto se cumplen 3 epochs sin mejorar (desde la epoch 6)."
   ]
  },
  {
   "cell_type": "markdown",
   "metadata": {},
   "source": [
    "### **Funciones de activación**"
   ]
  },
  {
   "cell_type": "markdown",
   "metadata": {},
   "source": [
    "A continuación voy a evaluar la importancia de utilizar las funciones de activación adecuadas. \n",
    "\n",
    "Crearé un modelo de red neuronal con más capas en los que iré variando su función de activación para ver que efectos produce."
   ]
  },
  {
   "cell_type": "markdown",
   "metadata": {},
   "source": [
    "#### Modelo con ReLU"
   ]
  },
  {
   "cell_type": "code",
   "execution_count": 155,
   "metadata": {},
   "outputs": [
    {
     "name": "stdout",
     "output_type": "stream",
     "text": [
      "Epoch 1/8\n",
      "\u001b[1m1407/1407\u001b[0m \u001b[32m━━━━━━━━━━━━━━━━━━━━\u001b[0m\u001b[37m\u001b[0m \u001b[1m10s\u001b[0m 6ms/step - accuracy: 0.8835 - loss: 0.3726 - val_accuracy: 0.9611 - val_loss: 0.1249\n",
      "Epoch 2/8\n",
      "\u001b[1m1407/1407\u001b[0m \u001b[32m━━━━━━━━━━━━━━━━━━━━\u001b[0m\u001b[37m\u001b[0m \u001b[1m8s\u001b[0m 6ms/step - accuracy: 0.9723 - loss: 0.0928 - val_accuracy: 0.9666 - val_loss: 0.1057\n",
      "Epoch 3/8\n",
      "\u001b[1m1407/1407\u001b[0m \u001b[32m━━━━━━━━━━━━━━━━━━━━\u001b[0m\u001b[37m\u001b[0m \u001b[1m8s\u001b[0m 6ms/step - accuracy: 0.9804 - loss: 0.0639 - val_accuracy: 0.9684 - val_loss: 0.1038\n",
      "Epoch 4/8\n",
      "\u001b[1m1407/1407\u001b[0m \u001b[32m━━━━━━━━━━━━━━━━━━━━\u001b[0m\u001b[37m\u001b[0m \u001b[1m8s\u001b[0m 6ms/step - accuracy: 0.9847 - loss: 0.0490 - val_accuracy: 0.9712 - val_loss: 0.1011\n",
      "Epoch 5/8\n",
      "\u001b[1m1407/1407\u001b[0m \u001b[32m━━━━━━━━━━━━━━━━━━━━\u001b[0m\u001b[37m\u001b[0m \u001b[1m9s\u001b[0m 6ms/step - accuracy: 0.9872 - loss: 0.0405 - val_accuracy: 0.9755 - val_loss: 0.0924\n",
      "Epoch 6/8\n",
      "\u001b[1m1407/1407\u001b[0m \u001b[32m━━━━━━━━━━━━━━━━━━━━\u001b[0m\u001b[37m\u001b[0m \u001b[1m8s\u001b[0m 6ms/step - accuracy: 0.9907 - loss: 0.0301 - val_accuracy: 0.9726 - val_loss: 0.1146\n",
      "Epoch 7/8\n",
      "\u001b[1m1407/1407\u001b[0m \u001b[32m━━━━━━━━━━━━━━━━━━━━\u001b[0m\u001b[37m\u001b[0m \u001b[1m9s\u001b[0m 6ms/step - accuracy: 0.9916 - loss: 0.0256 - val_accuracy: 0.9725 - val_loss: 0.1186\n",
      "Epoch 8/8\n",
      "\u001b[1m1407/1407\u001b[0m \u001b[32m━━━━━━━━━━━━━━━━━━━━\u001b[0m\u001b[37m\u001b[0m \u001b[1m8s\u001b[0m 6ms/step - accuracy: 0.9920 - loss: 0.0258 - val_accuracy: 0.9739 - val_loss: 0.1073\n"
     ]
    }
   ],
   "source": [
    "# Se define el modelo secuencial\n",
    "model_relu = tf.keras.models.Sequential([\n",
    "    tf.keras.layers.Input(shape=(784,)),\n",
    "    tf.keras.layers.Dense(512, activation='relu'),\n",
    "    tf.keras.layers.Dense(256, activation='relu'),\n",
    "    tf.keras.layers.Dense(128, activation='relu'),\n",
    "    tf.keras.layers.Dense(10, activation='softmax')\n",
    "])\n",
    "\n",
    "#Compilación del modelo\n",
    "model_relu.compile(optimizer='adam', loss='categorical_crossentropy', metrics=['accuracy'])\n",
    "\n",
    "#Entrenamiento del modelo\n",
    "history_relu = model_relu.fit(training_images, training_labels, epochs=8, batch_size=32, validation_split=0.25)\n"
   ]
  },
  {
   "cell_type": "markdown",
   "metadata": {},
   "source": [
    "#### Modelo con Sigmoide"
   ]
  },
  {
   "cell_type": "code",
   "execution_count": 157,
   "metadata": {},
   "outputs": [
    {
     "name": "stdout",
     "output_type": "stream",
     "text": [
      "Epoch 1/8\n"
     ]
    },
    {
     "name": "stderr",
     "output_type": "stream",
     "text": [
      "c:\\Users\\Ruben\\AppData\\Local\\Programs\\Python\\Python311\\Lib\\site-packages\\keras\\src\\layers\\core\\dense.py:87: UserWarning: Do not pass an `input_shape`/`input_dim` argument to a layer. When using Sequential models, prefer using an `Input(shape)` object as the first layer in the model instead.\n",
      "  super().__init__(activity_regularizer=activity_regularizer, **kwargs)\n"
     ]
    },
    {
     "name": "stdout",
     "output_type": "stream",
     "text": [
      "\u001b[1m1407/1407\u001b[0m \u001b[32m━━━━━━━━━━━━━━━━━━━━\u001b[0m\u001b[37m\u001b[0m \u001b[1m11s\u001b[0m 6ms/step - accuracy: 0.7581 - loss: 0.8084 - val_accuracy: 0.9418 - val_loss: 0.1975\n",
      "Epoch 2/8\n",
      "\u001b[1m1407/1407\u001b[0m \u001b[32m━━━━━━━━━━━━━━━━━━━━\u001b[0m\u001b[37m\u001b[0m \u001b[1m9s\u001b[0m 6ms/step - accuracy: 0.9459 - loss: 0.1779 - val_accuracy: 0.9542 - val_loss: 0.1531\n",
      "Epoch 3/8\n",
      "\u001b[1m1407/1407\u001b[0m \u001b[32m━━━━━━━━━━━━━━━━━━━━\u001b[0m\u001b[37m\u001b[0m \u001b[1m9s\u001b[0m 6ms/step - accuracy: 0.9656 - loss: 0.1176 - val_accuracy: 0.9597 - val_loss: 0.1359\n",
      "Epoch 4/8\n",
      "\u001b[1m1407/1407\u001b[0m \u001b[32m━━━━━━━━━━━━━━━━━━━━\u001b[0m\u001b[37m\u001b[0m \u001b[1m8s\u001b[0m 6ms/step - accuracy: 0.9753 - loss: 0.0830 - val_accuracy: 0.9680 - val_loss: 0.1066\n",
      "Epoch 5/8\n",
      "\u001b[1m1407/1407\u001b[0m \u001b[32m━━━━━━━━━━━━━━━━━━━━\u001b[0m\u001b[37m\u001b[0m \u001b[1m8s\u001b[0m 6ms/step - accuracy: 0.9826 - loss: 0.0590 - val_accuracy: 0.9690 - val_loss: 0.1088\n",
      "Epoch 6/8\n",
      "\u001b[1m1407/1407\u001b[0m \u001b[32m━━━━━━━━━━━━━━━━━━━━\u001b[0m\u001b[37m\u001b[0m \u001b[1m8s\u001b[0m 6ms/step - accuracy: 0.9859 - loss: 0.0444 - val_accuracy: 0.9726 - val_loss: 0.0968\n",
      "Epoch 7/8\n",
      "\u001b[1m1407/1407\u001b[0m \u001b[32m━━━━━━━━━━━━━━━━━━━━\u001b[0m\u001b[37m\u001b[0m \u001b[1m8s\u001b[0m 6ms/step - accuracy: 0.9882 - loss: 0.0373 - val_accuracy: 0.9729 - val_loss: 0.0984\n",
      "Epoch 8/8\n",
      "\u001b[1m1407/1407\u001b[0m \u001b[32m━━━━━━━━━━━━━━━━━━━━\u001b[0m\u001b[37m\u001b[0m \u001b[1m8s\u001b[0m 6ms/step - accuracy: 0.9919 - loss: 0.0260 - val_accuracy: 0.9747 - val_loss: 0.0947\n"
     ]
    }
   ],
   "source": [
    "#--- Modelo con Sigmoid ---\n",
    "model_sigmoid = tf.keras.models.Sequential([\n",
    "    tf.keras.layers.Input(shape=(784,)),\n",
    "    tf.keras.layers.Dense(512, activation='sigmoid', input_shape=(784,)),\n",
    "    tf.keras.layers.Dense(256, activation='sigmoid'),\n",
    "    tf.keras.layers.Dense(128, activation='sigmoid'),\n",
    "    tf.keras.layers.Dense(10, activation='softmax')\n",
    "])\n",
    "\n",
    "#Compilación del modelo\n",
    "model_sigmoid.compile(optimizer='adam', loss='categorical_crossentropy', metrics=['accuracy'])\n",
    "\n",
    "#Entrenamiento del modelo\n",
    "history_sigmoid = model_sigmoid.fit(training_images, training_labels, epochs=8, batch_size=32, validation_split=0.25)"
   ]
  },
  {
   "cell_type": "markdown",
   "metadata": {},
   "source": [
    "#### Modelo con Tanh"
   ]
  },
  {
   "cell_type": "code",
   "execution_count": 158,
   "metadata": {},
   "outputs": [
    {
     "name": "stdout",
     "output_type": "stream",
     "text": [
      "Epoch 1/8\n",
      "\u001b[1m1407/1407\u001b[0m \u001b[32m━━━━━━━━━━━━━━━━━━━━\u001b[0m\u001b[37m\u001b[0m \u001b[1m10s\u001b[0m 6ms/step - accuracy: 0.8768 - loss: 0.3945 - val_accuracy: 0.9470 - val_loss: 0.1717\n",
      "Epoch 2/8\n",
      "\u001b[1m1407/1407\u001b[0m \u001b[32m━━━━━━━━━━━━━━━━━━━━\u001b[0m\u001b[37m\u001b[0m \u001b[1m9s\u001b[0m 7ms/step - accuracy: 0.9604 - loss: 0.1300 - val_accuracy: 0.9581 - val_loss: 0.1409\n",
      "Epoch 3/8\n",
      "\u001b[1m1407/1407\u001b[0m \u001b[32m━━━━━━━━━━━━━━━━━━━━\u001b[0m\u001b[37m\u001b[0m \u001b[1m11s\u001b[0m 8ms/step - accuracy: 0.9720 - loss: 0.0889 - val_accuracy: 0.9634 - val_loss: 0.1209\n",
      "Epoch 4/8\n",
      "\u001b[1m1407/1407\u001b[0m \u001b[32m━━━━━━━━━━━━━━━━━━━━\u001b[0m\u001b[37m\u001b[0m \u001b[1m10s\u001b[0m 7ms/step - accuracy: 0.9805 - loss: 0.0620 - val_accuracy: 0.9641 - val_loss: 0.1195\n",
      "Epoch 5/8\n",
      "\u001b[1m1407/1407\u001b[0m \u001b[32m━━━━━━━━━━━━━━━━━━━━\u001b[0m\u001b[37m\u001b[0m \u001b[1m10s\u001b[0m 7ms/step - accuracy: 0.9840 - loss: 0.0514 - val_accuracy: 0.9675 - val_loss: 0.1107\n",
      "Epoch 6/8\n",
      "\u001b[1m1407/1407\u001b[0m \u001b[32m━━━━━━━━━━━━━━━━━━━━\u001b[0m\u001b[37m\u001b[0m \u001b[1m9s\u001b[0m 6ms/step - accuracy: 0.9853 - loss: 0.0460 - val_accuracy: 0.9698 - val_loss: 0.1079\n",
      "Epoch 7/8\n",
      "\u001b[1m1407/1407\u001b[0m \u001b[32m━━━━━━━━━━━━━━━━━━━━\u001b[0m\u001b[37m\u001b[0m \u001b[1m9s\u001b[0m 6ms/step - accuracy: 0.9877 - loss: 0.0397 - val_accuracy: 0.9698 - val_loss: 0.1109\n",
      "Epoch 8/8\n",
      "\u001b[1m1407/1407\u001b[0m \u001b[32m━━━━━━━━━━━━━━━━━━━━\u001b[0m\u001b[37m\u001b[0m \u001b[1m9s\u001b[0m 6ms/step - accuracy: 0.9892 - loss: 0.0323 - val_accuracy: 0.9692 - val_loss: 0.1119\n"
     ]
    }
   ],
   "source": [
    "model_tanh = tf.keras.models.Sequential([\n",
    "    tf.keras.layers.Input(shape=(784,)),\n",
    "    tf.keras.layers.Dense(512, activation='tanh'),\n",
    "    tf.keras.layers.Dense(256, activation='tanh'),\n",
    "    tf.keras.layers.Dense(128, activation='tanh'),\n",
    "    tf.keras.layers.Dense(10, activation='softmax')\n",
    "])\n",
    "\n",
    "#Compilación del modelo\n",
    "model_tanh.compile(optimizer='adam', loss='categorical_crossentropy', metrics=['accuracy'])\n",
    "\n",
    "#Entrenamiento del modelo\n",
    "history_tanh = model_tanh.fit(training_images, training_labels, epochs=8, batch_size=32, validation_split=0.25)\n"
   ]
  },
  {
   "cell_type": "markdown",
   "metadata": {},
   "source": [
    "#### Impacto de las variaciones"
   ]
  },
  {
   "cell_type": "markdown",
   "metadata": {},
   "source": [
    "Si comparamos los resultados de los tres modelos podemos ver que:\n",
    "\n",
    "- En cuanto a la velocidad de convergencia, con ReLU y Tanh la red alcanza una alta precisión rápidamente, mientras que con Sigmoid la red empieza inicialmente con una precisión más baja y le lleva más tiempo acercarse a precisiones similares.\n",
    "\n",
    "- En cuanto a la pérdida en validación, con ReLU la red en general se mantiene más baja y sufre menos cambios durante las epochs, después iría Tanh y finalmente Sigmoid que fluctúa más. Este comportamiento se debe a que ReLU permite que los pesos de la red se actualicen de forma más eficaz, mientras que con Sigmoid tiende a saturarse en valores bajos o altos, haciendo que tarde más en ajustarse. Tanh se comporta de manera similar a Sigmoid ya que también tiende a saturar, pero su saturación es menos severa que con Sigmoid.\n",
    "\n",
    "- En cuanto a los tiempos, la función ReLU fue la más rápida al completar su entrenamiento, seguido de cerca por la Sigmoide y después con algo más de distancia Tanh.\n",
    "\n",
    "En general en este escenario, se puede ver que los tres modelos alcanzan resultados muy similares, pero es la función de activación ReLU la que se lleva la posición ganadora debido a su velocidad en obtener resultados y su menor fluctuación, seguida de Tanh y finalmente Sigmoid.\n"
   ]
  },
  {
   "cell_type": "markdown",
   "metadata": {},
   "source": [
    "### **Inicialización de parámetros**"
   ]
  },
  {
   "cell_type": "markdown",
   "metadata": {},
   "source": [
    "Ahora voy a evaluar la importancia de una correcta inicialización de parámetros en una red neuronal. "
   ]
  },
  {
   "cell_type": "markdown",
   "metadata": {},
   "source": [
    "#### Inicialización con ceros"
   ]
  },
  {
   "cell_type": "code",
   "execution_count": 162,
   "metadata": {},
   "outputs": [
    {
     "name": "stdout",
     "output_type": "stream",
     "text": [
      "Epoch 1/8\n",
      "\u001b[1m1407/1407\u001b[0m \u001b[32m━━━━━━━━━━━━━━━━━━━━\u001b[0m\u001b[37m\u001b[0m \u001b[1m9s\u001b[0m 6ms/step - accuracy: 0.1119 - loss: 2.3017 - val_accuracy: 0.1076 - val_loss: 2.3019\n",
      "Epoch 2/8\n",
      "\u001b[1m1407/1407\u001b[0m \u001b[32m━━━━━━━━━━━━━━━━━━━━\u001b[0m\u001b[37m\u001b[0m \u001b[1m8s\u001b[0m 5ms/step - accuracy: 0.1131 - loss: 2.3012 - val_accuracy: 0.1076 - val_loss: 2.3019\n",
      "Epoch 3/8\n",
      "\u001b[1m1407/1407\u001b[0m \u001b[32m━━━━━━━━━━━━━━━━━━━━\u001b[0m\u001b[37m\u001b[0m \u001b[1m8s\u001b[0m 6ms/step - accuracy: 0.1166 - loss: 2.3007 - val_accuracy: 0.1076 - val_loss: 2.3018\n",
      "Epoch 4/8\n",
      "\u001b[1m1407/1407\u001b[0m \u001b[32m━━━━━━━━━━━━━━━━━━━━\u001b[0m\u001b[37m\u001b[0m \u001b[1m8s\u001b[0m 6ms/step - accuracy: 0.1149 - loss: 2.3009 - val_accuracy: 0.1076 - val_loss: 2.3018\n",
      "Epoch 5/8\n",
      "\u001b[1m1407/1407\u001b[0m \u001b[32m━━━━━━━━━━━━━━━━━━━━\u001b[0m\u001b[37m\u001b[0m \u001b[1m8s\u001b[0m 6ms/step - accuracy: 0.1140 - loss: 2.3013 - val_accuracy: 0.1076 - val_loss: 2.3021\n",
      "Epoch 6/8\n",
      "\u001b[1m1407/1407\u001b[0m \u001b[32m━━━━━━━━━━━━━━━━━━━━\u001b[0m\u001b[37m\u001b[0m \u001b[1m8s\u001b[0m 6ms/step - accuracy: 0.1127 - loss: 2.3014 - val_accuracy: 0.1076 - val_loss: 2.3019\n",
      "Epoch 7/8\n",
      "\u001b[1m1407/1407\u001b[0m \u001b[32m━━━━━━━━━━━━━━━━━━━━\u001b[0m\u001b[37m\u001b[0m \u001b[1m8s\u001b[0m 6ms/step - accuracy: 0.1154 - loss: 2.3007 - val_accuracy: 0.1076 - val_loss: 2.3020\n",
      "Epoch 8/8\n",
      "\u001b[1m1407/1407\u001b[0m \u001b[32m━━━━━━━━━━━━━━━━━━━━\u001b[0m\u001b[37m\u001b[0m \u001b[1m8s\u001b[0m 6ms/step - accuracy: 0.1151 - loss: 2.3008 - val_accuracy: 0.1076 - val_loss: 2.3018\n"
     ]
    }
   ],
   "source": [
    "from tensorflow.keras.initializers import Zeros\n",
    "\n",
    "# Modelo con inicialización en ceros en cada capa\n",
    "model_zeros = tf.keras.models.Sequential([\n",
    "    tf.keras.layers.Input(shape=(784,)),\n",
    "    tf.keras.layers.Dense(512, activation='relu', kernel_initializer=Zeros()), # Inicialización en ceros de los pesos de la capa oculta\n",
    "    tf.keras.layers.Dense(256, activation='relu', kernel_initializer=Zeros()),\n",
    "    tf.keras.layers.Dense(128, activation='relu', kernel_initializer=Zeros()),\n",
    "    tf.keras.layers.Dense(10, activation='softmax', kernel_initializer=Zeros())\n",
    "])\n",
    "\n",
    "#Compilación del modelo\n",
    "model_zeros.compile(optimizer='adam', loss='categorical_crossentropy', metrics=['accuracy'])\n",
    "\n",
    "#Entrenamiento del modelo\n",
    "history_zeros = model_zeros.fit(training_images, training_labels, epochs=8, batch_size=32, validation_split=0.25)"
   ]
  },
  {
   "cell_type": "markdown",
   "metadata": {},
   "source": [
    "Al iniciar todos los pesos en cero, las neuronas dentro de una misma capa empiezan con los mismos valores y, al recibir el mismo gradiente, actualizan sus pesos de la misma manera en cada epoch. Esto impide que las neuronas aprendan.\n",
    "\n",
    "Se puede ver en los resultados obtenidos donde la precisión es muy baja, sin apenas mejora a lo largo de las epochs y con una pérdida mantenida alta."
   ]
  },
  {
   "cell_type": "markdown",
   "metadata": {},
   "source": [
    "#### Inicialización con una variable aleatoria"
   ]
  },
  {
   "cell_type": "code",
   "execution_count": 161,
   "metadata": {},
   "outputs": [
    {
     "name": "stdout",
     "output_type": "stream",
     "text": [
      "Epoch 1/8\n",
      "\u001b[1m1407/1407\u001b[0m \u001b[32m━━━━━━━━━━━━━━━━━━━━\u001b[0m\u001b[37m\u001b[0m \u001b[1m9s\u001b[0m 5ms/step - accuracy: 0.8687 - loss: 0.4312 - val_accuracy: 0.9608 - val_loss: 0.1302\n",
      "Epoch 2/8\n",
      "\u001b[1m1407/1407\u001b[0m \u001b[32m━━━━━━━━━━━━━━━━━━━━\u001b[0m\u001b[37m\u001b[0m \u001b[1m7s\u001b[0m 5ms/step - accuracy: 0.9696 - loss: 0.0954 - val_accuracy: 0.9716 - val_loss: 0.0960\n",
      "Epoch 3/8\n",
      "\u001b[1m1407/1407\u001b[0m \u001b[32m━━━━━━━━━━━━━━━━━━━━\u001b[0m\u001b[37m\u001b[0m \u001b[1m8s\u001b[0m 5ms/step - accuracy: 0.9822 - loss: 0.0608 - val_accuracy: 0.9747 - val_loss: 0.0887\n",
      "Epoch 4/8\n",
      "\u001b[1m1407/1407\u001b[0m \u001b[32m━━━━━━━━━━━━━━━━━━━━\u001b[0m\u001b[37m\u001b[0m \u001b[1m7s\u001b[0m 5ms/step - accuracy: 0.9859 - loss: 0.0445 - val_accuracy: 0.9715 - val_loss: 0.0995\n",
      "Epoch 5/8\n",
      "\u001b[1m1407/1407\u001b[0m \u001b[32m━━━━━━━━━━━━━━━━━━━━\u001b[0m\u001b[37m\u001b[0m \u001b[1m8s\u001b[0m 5ms/step - accuracy: 0.9891 - loss: 0.0350 - val_accuracy: 0.9733 - val_loss: 0.1093\n",
      "Epoch 6/8\n",
      "\u001b[1m1407/1407\u001b[0m \u001b[32m━━━━━━━━━━━━━━━━━━━━\u001b[0m\u001b[37m\u001b[0m \u001b[1m7s\u001b[0m 5ms/step - accuracy: 0.9912 - loss: 0.0270 - val_accuracy: 0.9712 - val_loss: 0.1260\n",
      "Epoch 7/8\n",
      "\u001b[1m1407/1407\u001b[0m \u001b[32m━━━━━━━━━━━━━━━━━━━━\u001b[0m\u001b[37m\u001b[0m \u001b[1m8s\u001b[0m 5ms/step - accuracy: 0.9916 - loss: 0.0292 - val_accuracy: 0.9733 - val_loss: 0.1065\n",
      "Epoch 8/8\n",
      "\u001b[1m1407/1407\u001b[0m \u001b[32m━━━━━━━━━━━━━━━━━━━━\u001b[0m\u001b[37m\u001b[0m \u001b[1m7s\u001b[0m 5ms/step - accuracy: 0.9933 - loss: 0.0214 - val_accuracy: 0.9774 - val_loss: 0.1023\n"
     ]
    }
   ],
   "source": [
    "from tensorflow.keras.initializers import RandomNormal\n",
    "\n",
    "# Modelo con inicialización con una variable aleatoria normal (Media 0 y Desviación 1)\n",
    "model_random_normal = tf.keras.models.Sequential([\n",
    "    tf.keras.layers.Input(shape=(784,)),\n",
    "    tf.keras.layers.Dense(512, activation='relu', kernel_initializer=RandomNormal()),  # Inicialización con una VA de los pesos de la capa oculta\n",
    "    tf.keras.layers.Dense(256, activation='relu', kernel_initializer=RandomNormal()),\n",
    "    tf.keras.layers.Dense(128, activation='relu', kernel_initializer=RandomNormal()),\n",
    "    tf.keras.layers.Dense(10, activation='softmax', kernel_initializer=RandomNormal())\n",
    "])\n",
    "\n",
    "#Compilación del modelo\n",
    "model_random_normal.compile(optimizer='adam', loss='categorical_crossentropy', metrics=['accuracy'])\n",
    "\n",
    "#Entrenamiento del modelo\n",
    "history_random_normal = model_random_normal.fit(training_images, training_labels, epochs=8, batch_size=32, validation_split=0.25)\n"
   ]
  },
  {
   "cell_type": "markdown",
   "metadata": {},
   "source": [
    "Al inicializar de forma aleatoria permito que las neuronas comiencen con valores diferentes, evitando la simetría entre ellas y permitiendo que la red aprenda patrones distintos, a diferencia que con la inicialización con ceros. Un posible problema es que al ser valores aleatorios puede que algunos de los valores sean muy grandes o muy pequeños provocando una distorsión en la red.\n",
    "\n",
    "Con esta inicialización podemos ver como los resultados han mejorado significativamente en comparación a inicializar con ceros."
   ]
  },
  {
   "cell_type": "markdown",
   "metadata": {},
   "source": [
    "#### Inicialización con los valores por defecto de Keras"
   ]
  },
  {
   "cell_type": "markdown",
   "metadata": {},
   "source": [
    "Si no se indica ningún inicializador de los pesos de la capa, Keras usará GlorotUniform, también conocido como Xavier Uniform. Es el que se ha usado durante el proyecto, ya que no se indicó inicialización."
   ]
  },
  {
   "cell_type": "code",
   "execution_count": 160,
   "metadata": {},
   "outputs": [
    {
     "name": "stdout",
     "output_type": "stream",
     "text": [
      "Epoch 1/8\n",
      "\u001b[1m1407/1407\u001b[0m \u001b[32m━━━━━━━━━━━━━━━━━━━━\u001b[0m\u001b[37m\u001b[0m \u001b[1m10s\u001b[0m 6ms/step - accuracy: 0.8875 - loss: 0.3688 - val_accuracy: 0.9611 - val_loss: 0.1330\n",
      "Epoch 2/8\n",
      "\u001b[1m1407/1407\u001b[0m \u001b[32m━━━━━━━━━━━━━━━━━━━━\u001b[0m\u001b[37m\u001b[0m \u001b[1m8s\u001b[0m 6ms/step - accuracy: 0.9706 - loss: 0.0961 - val_accuracy: 0.9692 - val_loss: 0.1019\n",
      "Epoch 3/8\n",
      "\u001b[1m1407/1407\u001b[0m \u001b[32m━━━━━━━━━━━━━━━━━━━━\u001b[0m\u001b[37m\u001b[0m \u001b[1m9s\u001b[0m 6ms/step - accuracy: 0.9812 - loss: 0.0608 - val_accuracy: 0.9690 - val_loss: 0.1153\n",
      "Epoch 4/8\n",
      "\u001b[1m1407/1407\u001b[0m \u001b[32m━━━━━━━━━━━━━━━━━━━━\u001b[0m\u001b[37m\u001b[0m \u001b[1m8s\u001b[0m 5ms/step - accuracy: 0.9849 - loss: 0.0480 - val_accuracy: 0.9757 - val_loss: 0.0863\n",
      "Epoch 5/8\n",
      "\u001b[1m1407/1407\u001b[0m \u001b[32m━━━━━━━━━━━━━━━━━━━━\u001b[0m\u001b[37m\u001b[0m \u001b[1m8s\u001b[0m 6ms/step - accuracy: 0.9883 - loss: 0.0360 - val_accuracy: 0.9733 - val_loss: 0.1061\n",
      "Epoch 6/8\n",
      "\u001b[1m1407/1407\u001b[0m \u001b[32m━━━━━━━━━━━━━━━━━━━━\u001b[0m\u001b[37m\u001b[0m \u001b[1m8s\u001b[0m 5ms/step - accuracy: 0.9893 - loss: 0.0340 - val_accuracy: 0.9751 - val_loss: 0.1004\n",
      "Epoch 7/8\n",
      "\u001b[1m1407/1407\u001b[0m \u001b[32m━━━━━━━━━━━━━━━━━━━━\u001b[0m\u001b[37m\u001b[0m \u001b[1m8s\u001b[0m 6ms/step - accuracy: 0.9918 - loss: 0.0243 - val_accuracy: 0.9679 - val_loss: 0.1405\n",
      "Epoch 8/8\n",
      "\u001b[1m1407/1407\u001b[0m \u001b[32m━━━━━━━━━━━━━━━━━━━━\u001b[0m\u001b[37m\u001b[0m \u001b[1m7s\u001b[0m 5ms/step - accuracy: 0.9916 - loss: 0.0275 - val_accuracy: 0.9745 - val_loss: 0.1129\n"
     ]
    }
   ],
   "source": [
    "from tensorflow.keras.initializers import GlorotUniform\n",
    "\n",
    "# Modelo con inicialización con Glorot Uniform\n",
    "model_glorot = tf.keras.models.Sequential([\n",
    "    tf.keras.layers.Input(shape=(784,)),\n",
    "    tf.keras.layers.Dense(512, activation='relu', kernel_initializer=GlorotUniform()), # Inicialización con una VA de los pesos de la capa oculta\n",
    "    tf.keras.layers.Dense(256, activation='relu', kernel_initializer=GlorotUniform()),\n",
    "    tf.keras.layers.Dense(128, activation='relu', kernel_initializer=GlorotUniform()),\n",
    "    tf.keras.layers.Dense(10, activation='softmax', kernel_initializer=GlorotUniform())\n",
    "])\n",
    "\n",
    "#Compilación del modelo\n",
    "model_glorot.compile(optimizer='adam', loss='categorical_crossentropy', metrics=['accuracy'])\n",
    "\n",
    "#Entrenamiento del modelo\n",
    "history_glorot = model_glorot.fit(training_images, training_labels, epochs=8, batch_size=32, validation_split=0.25)"
   ]
  },
  {
   "cell_type": "markdown",
   "metadata": {},
   "source": [
    "Glorot Uniform distribuye los pesos en un rango dependiente del tamaño de la capa de entrada y salida, lo que ayuda a mantener los gradientes en un rango manejable, evitando así la posible distorsión que ocurre con la variable aleatoria."
   ]
  },
  {
   "cell_type": "markdown",
   "metadata": {},
   "source": [
    "### **Optimizadores**"
   ]
  },
  {
   "cell_type": "markdown",
   "metadata": {},
   "source": [
    "Ahora voy a comparar las diferencias que presenta una red al entrenarla con distintos optimizadores. \n",
    "\n",
    "El optimizador se encarga de ajustar los pesos y sesgos de la red para minimizar la función de pérdida, logrando que el modelo haga predicciones más precisas."
   ]
  },
  {
   "cell_type": "markdown",
   "metadata": {},
   "source": [
    "#### Con optimizador SGD (Descenso del gradiente)"
   ]
  },
  {
   "cell_type": "code",
   "execution_count": 163,
   "metadata": {},
   "outputs": [
    {
     "name": "stdout",
     "output_type": "stream",
     "text": [
      "Epoch 1/8\n",
      "\u001b[1m1407/1407\u001b[0m \u001b[32m━━━━━━━━━━━━━━━━━━━━\u001b[0m\u001b[37m\u001b[0m \u001b[1m6s\u001b[0m 4ms/step - accuracy: 0.7001 - loss: 1.1096 - val_accuracy: 0.9145 - val_loss: 0.2983\n",
      "Epoch 2/8\n",
      "\u001b[1m1407/1407\u001b[0m \u001b[32m━━━━━━━━━━━━━━━━━━━━\u001b[0m\u001b[37m\u001b[0m \u001b[1m5s\u001b[0m 4ms/step - accuracy: 0.9174 - loss: 0.2838 - val_accuracy: 0.9351 - val_loss: 0.2271\n",
      "Epoch 3/8\n",
      "\u001b[1m1407/1407\u001b[0m \u001b[32m━━━━━━━━━━━━━━━━━━━━\u001b[0m\u001b[37m\u001b[0m \u001b[1m5s\u001b[0m 4ms/step - accuracy: 0.9360 - loss: 0.2226 - val_accuracy: 0.9385 - val_loss: 0.2093\n",
      "Epoch 4/8\n",
      "\u001b[1m1407/1407\u001b[0m \u001b[32m━━━━━━━━━━━━━━━━━━━━\u001b[0m\u001b[37m\u001b[0m \u001b[1m5s\u001b[0m 4ms/step - accuracy: 0.9468 - loss: 0.1815 - val_accuracy: 0.9475 - val_loss: 0.1840\n",
      "Epoch 5/8\n",
      "\u001b[1m1407/1407\u001b[0m \u001b[32m━━━━━━━━━━━━━━━━━━━━\u001b[0m\u001b[37m\u001b[0m \u001b[1m5s\u001b[0m 4ms/step - accuracy: 0.9564 - loss: 0.1527 - val_accuracy: 0.9572 - val_loss: 0.1518\n",
      "Epoch 6/8\n",
      "\u001b[1m1407/1407\u001b[0m \u001b[32m━━━━━━━━━━━━━━━━━━━━\u001b[0m\u001b[37m\u001b[0m \u001b[1m5s\u001b[0m 4ms/step - accuracy: 0.9619 - loss: 0.1329 - val_accuracy: 0.9595 - val_loss: 0.1400\n",
      "Epoch 7/8\n",
      "\u001b[1m1407/1407\u001b[0m \u001b[32m━━━━━━━━━━━━━━━━━━━━\u001b[0m\u001b[37m\u001b[0m \u001b[1m5s\u001b[0m 4ms/step - accuracy: 0.9688 - loss: 0.1106 - val_accuracy: 0.9593 - val_loss: 0.1369\n",
      "Epoch 8/8\n",
      "\u001b[1m1407/1407\u001b[0m \u001b[32m━━━━━━━━━━━━━━━━━━━━\u001b[0m\u001b[37m\u001b[0m \u001b[1m5s\u001b[0m 4ms/step - accuracy: 0.9725 - loss: 0.0959 - val_accuracy: 0.9606 - val_loss: 0.1320\n"
     ]
    }
   ],
   "source": [
    "from tensorflow.keras.optimizers import SGD\n",
    "\n",
    "# Modelo con optimizador SGD\n",
    "model_sgd = tf.keras.models.Sequential([\n",
    "    tf.keras.layers.Input(shape=(784,)),\n",
    "    tf.keras.layers.Dense(512, activation='relu'),\n",
    "    tf.keras.layers.Dense(256, activation='relu'),\n",
    "    tf.keras.layers.Dense(128, activation='relu'),\n",
    "    tf.keras.layers.Dense(10, activation='softmax')\n",
    "])\n",
    "\n",
    "#Compilación del modelo\n",
    "model_sgd.compile(optimizer=SGD(learning_rate=0.01), loss='categorical_crossentropy', metrics=['accuracy']) # Uso el optimizador SGD\n",
    "\n",
    "#Entrenamiento del modelo\n",
    "history_sgd = model_sgd.fit(training_images, training_labels, epochs=8, batch_size=32, validation_split=0.25)\n"
   ]
  },
  {
   "cell_type": "markdown",
   "metadata": {},
   "source": [
    "#### Con optimizador Adam"
   ]
  },
  {
   "cell_type": "code",
   "execution_count": 164,
   "metadata": {},
   "outputs": [
    {
     "name": "stdout",
     "output_type": "stream",
     "text": [
      "Epoch 1/8\n",
      "\u001b[1m1407/1407\u001b[0m \u001b[32m━━━━━━━━━━━━━━━━━━━━\u001b[0m\u001b[37m\u001b[0m \u001b[1m9s\u001b[0m 6ms/step - accuracy: 0.8857 - loss: 0.3795 - val_accuracy: 0.9597 - val_loss: 0.1328\n",
      "Epoch 2/8\n",
      "\u001b[1m1407/1407\u001b[0m \u001b[32m━━━━━━━━━━━━━━━━━━━━\u001b[0m\u001b[37m\u001b[0m \u001b[1m8s\u001b[0m 6ms/step - accuracy: 0.9717 - loss: 0.0925 - val_accuracy: 0.9679 - val_loss: 0.1052\n",
      "Epoch 3/8\n",
      "\u001b[1m1407/1407\u001b[0m \u001b[32m━━━━━━━━━━━━━━━━━━━━\u001b[0m\u001b[37m\u001b[0m \u001b[1m8s\u001b[0m 6ms/step - accuracy: 0.9811 - loss: 0.0584 - val_accuracy: 0.9708 - val_loss: 0.0998\n",
      "Epoch 4/8\n",
      "\u001b[1m1407/1407\u001b[0m \u001b[32m━━━━━━━━━━━━━━━━━━━━\u001b[0m\u001b[37m\u001b[0m \u001b[1m8s\u001b[0m 6ms/step - accuracy: 0.9850 - loss: 0.0465 - val_accuracy: 0.9725 - val_loss: 0.1001\n",
      "Epoch 5/8\n",
      "\u001b[1m1407/1407\u001b[0m \u001b[32m━━━━━━━━━━━━━━━━━━━━\u001b[0m\u001b[37m\u001b[0m \u001b[1m8s\u001b[0m 6ms/step - accuracy: 0.9890 - loss: 0.0354 - val_accuracy: 0.9758 - val_loss: 0.0988\n",
      "Epoch 6/8\n",
      "\u001b[1m1407/1407\u001b[0m \u001b[32m━━━━━━━━━━━━━━━━━━━━\u001b[0m\u001b[37m\u001b[0m \u001b[1m8s\u001b[0m 6ms/step - accuracy: 0.9904 - loss: 0.0295 - val_accuracy: 0.9761 - val_loss: 0.0947\n",
      "Epoch 7/8\n",
      "\u001b[1m1407/1407\u001b[0m \u001b[32m━━━━━━━━━━━━━━━━━━━━\u001b[0m\u001b[37m\u001b[0m \u001b[1m9s\u001b[0m 6ms/step - accuracy: 0.9916 - loss: 0.0258 - val_accuracy: 0.9740 - val_loss: 0.1106\n",
      "Epoch 8/8\n",
      "\u001b[1m1407/1407\u001b[0m \u001b[32m━━━━━━━━━━━━━━━━━━━━\u001b[0m\u001b[37m\u001b[0m \u001b[1m8s\u001b[0m 5ms/step - accuracy: 0.9926 - loss: 0.0225 - val_accuracy: 0.9705 - val_loss: 0.1378\n"
     ]
    }
   ],
   "source": [
    "from tensorflow.keras.optimizers import Adam\n",
    "\n",
    "# Modelo con optimizador Adam\n",
    "model_adam = tf.keras.models.Sequential([\n",
    "    tf.keras.layers.Input(shape=(784,)),\n",
    "    tf.keras.layers.Dense(512, activation='relu'),\n",
    "    tf.keras.layers.Dense(256, activation='relu'),\n",
    "    tf.keras.layers.Dense(128, activation='relu'),\n",
    "    tf.keras.layers.Dense(10, activation='softmax')\n",
    "])\n",
    "\n",
    "#Compilación del modelo\n",
    "model_adam.compile(optimizer=Adam(), loss='categorical_crossentropy', metrics=['accuracy']) # Uso el optimizador SGD\n",
    "\n",
    "#Entrenamiento del modelo\n",
    "history_adam = model_adam.fit(training_images, training_labels, epochs=8, batch_size=32, validation_split=0.25)\n"
   ]
  },
  {
   "cell_type": "markdown",
   "metadata": {},
   "source": [
    "#### Con optimizador RMSprop"
   ]
  },
  {
   "cell_type": "code",
   "execution_count": null,
   "metadata": {},
   "outputs": [
    {
     "name": "stdout",
     "output_type": "stream",
     "text": [
      "Epoch 1/8\n",
      "\u001b[1m1407/1407\u001b[0m \u001b[32m━━━━━━━━━━━━━━━━━━━━\u001b[0m\u001b[37m\u001b[0m \u001b[1m8s\u001b[0m 5ms/step - accuracy: 0.8799 - loss: 0.3798 - val_accuracy: 0.9636 - val_loss: 0.1272\n",
      "Epoch 2/8\n",
      "\u001b[1m1407/1407\u001b[0m \u001b[32m━━━━━━━━━━━━━━━━━━━━\u001b[0m\u001b[37m\u001b[0m \u001b[1m7s\u001b[0m 5ms/step - accuracy: 0.9721 - loss: 0.0954 - val_accuracy: 0.9644 - val_loss: 0.1290\n",
      "Epoch 3/8\n",
      "\u001b[1m1407/1407\u001b[0m \u001b[32m━━━━━━━━━━━━━━━━━━━━\u001b[0m\u001b[37m\u001b[0m \u001b[1m7s\u001b[0m 5ms/step - accuracy: 0.9812 - loss: 0.0665 - val_accuracy: 0.9700 - val_loss: 0.1204\n",
      "Epoch 4/8\n",
      "\u001b[1m1407/1407\u001b[0m \u001b[32m━━━━━━━━━━━━━━━━━━━━\u001b[0m\u001b[37m\u001b[0m \u001b[1m7s\u001b[0m 5ms/step - accuracy: 0.9848 - loss: 0.0532 - val_accuracy: 0.9700 - val_loss: 0.1432\n",
      "Epoch 5/8\n",
      "\u001b[1m1407/1407\u001b[0m \u001b[32m━━━━━━━━━━━━━━━━━━━━\u001b[0m\u001b[37m\u001b[0m \u001b[1m7s\u001b[0m 5ms/step - accuracy: 0.9882 - loss: 0.0435 - val_accuracy: 0.9755 - val_loss: 0.1181\n",
      "Epoch 6/8\n",
      "\u001b[1m1407/1407\u001b[0m \u001b[32m━━━━━━━━━━━━━━━━━━━━\u001b[0m\u001b[37m\u001b[0m \u001b[1m7s\u001b[0m 5ms/step - accuracy: 0.9913 - loss: 0.0326 - val_accuracy: 0.9755 - val_loss: 0.1313\n",
      "Epoch 7/8\n",
      "\u001b[1m1407/1407\u001b[0m \u001b[32m━━━━━━━━━━━━━━━━━━━━\u001b[0m\u001b[37m\u001b[0m \u001b[1m7s\u001b[0m 5ms/step - accuracy: 0.9915 - loss: 0.0316 - val_accuracy: 0.9773 - val_loss: 0.1398\n",
      "Epoch 8/8\n",
      "\u001b[1m1407/1407\u001b[0m \u001b[32m━━━━━━━━━━━━━━━━━━━━\u001b[0m\u001b[37m\u001b[0m \u001b[1m7s\u001b[0m 5ms/step - accuracy: 0.9928 - loss: 0.0275 - val_accuracy: 0.9765 - val_loss: 0.1586\n"
     ]
    }
   ],
   "source": [
    "from tensorflow.keras.optimizers import RMSprop\n",
    "\n",
    "# Modelo con optimizador RMSprop\n",
    "model_rms = tf.keras.models.Sequential([\n",
    "    tf.keras.layers.Input(shape=(784,)),\n",
    "    tf.keras.layers.Dense(512, activation='relu'),\n",
    "    tf.keras.layers.Dense(256, activation='relu'),\n",
    "    tf.keras.layers.Dense(128, activation='relu'),\n",
    "    tf.keras.layers.Dense(10, activation='softmax')\n",
    "])\n",
    "\n",
    "#Compilación del modelo\n",
    "model_rms.compile(optimizer=RMSprop(), loss='categorical_crossentropy', metrics=['accuracy']) # Uso el optimizador SGD\n",
    "\n",
    "#Entrenamiento del modelo\n",
    "history_rms = model_rms.fit(training_images, training_labels, epochs=8, batch_size=32, validation_split=0.25)\n"
   ]
  },
  {
   "cell_type": "markdown",
   "metadata": {},
   "source": [
    "#### Comparativa de optimizadores"
   ]
  },
  {
   "cell_type": "markdown",
   "metadata": {},
   "source": [
    "- SGD tiende a una convergencia más lenta al principio y requiere de un ajuste preciso en el learning rate para conseguir buenos resultados. Las pérdidas son relativamente estables, sin fluctuaciones grandes.\n",
    "\n",
    "- Adam tiene una convergencia rápida y alta precisión en pocas epochs debido a su adaptación automática del learning rate. Las pérdidas de validación es baja y estable en sus primeras epochs, con un ligero incremento en sus etapas finales lo que sugiere algo de sobreajuste. Es uno de los optimizadores más utilizados.\n",
    "\n",
    "- RMSprop es similar a Adam, pero algo menos estable, su comportamiento es bueno al inicio, pero en las epochs finales se observan unas pérdidas de validación relativamente altas lo que puede sugerir algo de sobreajuste también.\n",
    "\n",
    "Adam es la opción ganadora en este contexto por su equilibrio entre velocidad de convergencia, precisión y estabilidad ante las pérdidas.\n"
   ]
  },
  {
   "cell_type": "markdown",
   "metadata": {},
   "source": [
    "### **Regularización y red final**"
   ]
  },
  {
   "cell_type": "markdown",
   "metadata": {},
   "source": [
    "La regularización es una técnica que se utiliza para evitar el overfitting y mejorar la capacidad de generalización de los modelos. Introduce restricciones o penalizaciones durante el entrenamiento para evitar que se vuelva demasiado complejo y aprenda patrones específicos del conjunto de entrenamiento.\n",
    "\n",
    "Voy a diseñar una red neuronal que incluya técnicas de regularización con el objetivo de conseguir una precisión del 96%."
   ]
  },
  {
   "cell_type": "code",
   "execution_count": 168,
   "metadata": {},
   "outputs": [
    {
     "name": "stdout",
     "output_type": "stream",
     "text": [
      "Epoch 1/10\n",
      "\u001b[1m1407/1407\u001b[0m \u001b[32m━━━━━━━━━━━━━━━━━━━━\u001b[0m\u001b[37m\u001b[0m \u001b[1m13s\u001b[0m 8ms/step - accuracy: 0.8240 - loss: 1.4144 - val_accuracy: 0.9521 - val_loss: 0.7063\n",
      "Epoch 2/10\n",
      "\u001b[1m1407/1407\u001b[0m \u001b[32m━━━━━━━━━━━━━━━━━━━━\u001b[0m\u001b[37m\u001b[0m \u001b[1m11s\u001b[0m 8ms/step - accuracy: 0.9278 - loss: 0.7262 - val_accuracy: 0.9535 - val_loss: 0.5107\n",
      "Epoch 3/10\n",
      "\u001b[1m1407/1407\u001b[0m \u001b[32m━━━━━━━━━━━━━━━━━━━━\u001b[0m\u001b[37m\u001b[0m \u001b[1m11s\u001b[0m 7ms/step - accuracy: 0.9311 - loss: 0.5698 - val_accuracy: 0.9564 - val_loss: 0.4333\n",
      "Epoch 4/10\n",
      "\u001b[1m1407/1407\u001b[0m \u001b[32m━━━━━━━━━━━━━━━━━━━━\u001b[0m\u001b[37m\u001b[0m \u001b[1m10s\u001b[0m 7ms/step - accuracy: 0.9330 - loss: 0.5106 - val_accuracy: 0.9581 - val_loss: 0.4083\n",
      "Epoch 5/10\n",
      "\u001b[1m1407/1407\u001b[0m \u001b[32m━━━━━━━━━━━━━━━━━━━━\u001b[0m\u001b[37m\u001b[0m \u001b[1m11s\u001b[0m 8ms/step - accuracy: 0.9335 - loss: 0.4833 - val_accuracy: 0.9593 - val_loss: 0.3864\n",
      "Epoch 6/10\n",
      "\u001b[1m1407/1407\u001b[0m \u001b[32m━━━━━━━━━━━━━━━━━━━━\u001b[0m\u001b[37m\u001b[0m \u001b[1m11s\u001b[0m 8ms/step - accuracy: 0.9366 - loss: 0.4558 - val_accuracy: 0.9577 - val_loss: 0.3824\n",
      "Epoch 7/10\n",
      "\u001b[1m1407/1407\u001b[0m \u001b[32m━━━━━━━━━━━━━━━━━━━━\u001b[0m\u001b[37m\u001b[0m \u001b[1m11s\u001b[0m 8ms/step - accuracy: 0.9354 - loss: 0.4533 - val_accuracy: 0.9513 - val_loss: 0.3847\n",
      "Epoch 8/10\n",
      "\u001b[1m1407/1407\u001b[0m \u001b[32m━━━━━━━━━━━━━━━━━━━━\u001b[0m\u001b[37m\u001b[0m \u001b[1m10s\u001b[0m 7ms/step - accuracy: 0.9359 - loss: 0.4392 - val_accuracy: 0.9605 - val_loss: 0.3643\n",
      "Epoch 9/10\n",
      "\u001b[1m1407/1407\u001b[0m \u001b[32m━━━━━━━━━━━━━━━━━━━━\u001b[0m\u001b[37m\u001b[0m \u001b[1m10s\u001b[0m 7ms/step - accuracy: 0.9384 - loss: 0.4285 - val_accuracy: 0.9620 - val_loss: 0.3393\n",
      "Epoch 10/10\n",
      "\u001b[1m1407/1407\u001b[0m \u001b[32m━━━━━━━━━━━━━━━━━━━━\u001b[0m\u001b[37m\u001b[0m \u001b[1m11s\u001b[0m 7ms/step - accuracy: 0.9387 - loss: 0.4255 - val_accuracy: 0.9517 - val_loss: 0.3794\n"
     ]
    }
   ],
   "source": [
    "from tensorflow.keras.layers import Dropout, BatchNormalization\n",
    "from tensorflow.keras.regularizers import l2\n",
    "\n",
    "# Modelo final con regularización L2, BatchNormalization y Dropout\n",
    "model_final = tf.keras.models.Sequential([\n",
    "    tf.keras.layers.Input(shape=(784,)),\n",
    "    tf.keras.layers.Dense(512, activation='relu', kernel_regularizer=l2(0.001)), BatchNormalization(), Dropout(0.3), # Añado regularización L2, BatchNormalization y Dropout en cada capa oculta\n",
    "    tf.keras.layers.Dense(256, activation='relu', kernel_regularizer=l2(0.001)), BatchNormalization(), Dropout(0.3),\n",
    "    tf.keras.layers.Dense(128, activation='relu', kernel_regularizer=l2(0.001)), BatchNormalization(), Dropout(0.3),\n",
    "    tf.keras.layers.Dense(10, activation='softmax')\n",
    "])\n",
    "\n",
    "#Compilación del modelo\n",
    "model_final.compile(optimizer=Adam(learning_rate=0.001), loss='categorical_crossentropy', metrics=['accuracy']) # Ajusto manualmente el learning rate a 0.001\n",
    "\n",
    "#Entrenamiento del modelo\n",
    "history_final = model_final.fit(training_images, training_labels, epochs=10, batch_size=32, validation_split=0.25)\n"
   ]
  },
  {
   "cell_type": "markdown",
   "metadata": {},
   "source": [
    "#### Análisis del modelo final"
   ]
  },
  {
   "cell_type": "markdown",
   "metadata": {},
   "source": [
    "- Número de capas y neuronas por capa: He decidido usar 4 capas ya que proporcionan un buen balance entre capacidad y eficiencia, organizadas con un disminución en el número de neuronas (512, 256, 128 y 64) permitiendo que el modelo aprenda características más generales en las capas iniciales y características más específicas en las capas finales.\n",
    "\n",
    "- Función de activación: He elegido ReLU en cada capa oculta ya que como se vio durante el proyecto, resultó ser la más eficiente en términos generales.\n",
    "\n",
    "- Inicializador: Por el mismo motivo que el anterior, elegí glorot_uniform como inicializador del modelo, permitiendo así una convergencia estable desde el inicio.\n",
    "\n",
    "- Regularización: Se ha añadido una regularización L2 para evitar que los pesos se vuelvan muy grandes, ayudando a evitar el sobreajuste.\n",
    "\n",
    "- BatchNormalization se encarga de normalizar las salidas de cada capa oculta, de forma que reduce el riesgo de sobreajuste y mejora la precisión en la validación.\n",
    "\n",
    "- Dropout: Se encarga de \"apagar\" aleatoriamente el 30% (suele ser un valor entre el 20% y el 50%) de las neuronas en cada paso del entrenamiento, de esta forma podemos forzar a la red a que aprenda patrones más generales y no dependa tanto de ciertas neuronas. Es muy útil para reducir el sobreajuste y mejorar la generalización del modelo.\n",
    "\n",
    "- Optimizador: Se ha elegido Adam como optimizador ya como se vio durante el proyecto, resultó ser el más robusto y eficiente.\n",
    "\n",
    "- Epochs y Batch size: Se ha elegido un total de 10 epochs ya que lo considero un buen número para que el modelo sea capaz de aprender los patrones sin caer en el sobreajuste. El batch size de 32 es un valor típico para clasificación de imágenes ya que proporciona un buen equilibrio entre estabilidad de los gradientes y velocidad de convergencia.\n",
    "\n",
    "- Validation split: Se ha elegido usar el 25% del conjunto de entrenamiento para validación.\n",
    "\n",
    "- Otros detalles a considerar: No se ha usado Early stopping debido a los mecanismos ya implementados para prevenir el sobreajuste y a que en caso de ocurrir es fácilmente detectable \"a ojo\".\n",
    "\n",
    "**Resultados**:\n",
    "\n",
    "El modelo entrenado ha dado buenos resultados en los que se observa como la precisión ha ido aumentando progresivamente con el paso de las epoch. La precisión de validación llegó a alcanzar el objetivo propusto del 96% en la epoch 9 coincidiendo con la menor pérdida de validación. Se puede observar también como en la epoch 10 hay un aumento de precisión, pero también lo hay en las pérdidas de validación lo que puede indicar que el modelo comienza a sufrir de sobreajuste a partir de esta etapa."
   ]
  },
  {
   "cell_type": "markdown",
   "metadata": {},
   "source": [
    "#### Gráficas de precisión y pérdida"
   ]
  },
  {
   "cell_type": "code",
   "execution_count": 192,
   "metadata": {},
   "outputs": [
    {
     "data": {
      "image/png": "[encoded data removed]",
      "text/plain": [
       "<Figure size 1400x500 with 2 Axes>"
      ]
     },
     "metadata": {},
     "output_type": "display_data"
    }
   ],
   "source": [
    "import matplotlib.pyplot as plt\n",
    "\n",
    "# Creo una figura con dos subgráficos\n",
    "plt.figure(figsize=(14, 5))\n",
    "\n",
    "# Gráfica de precisión (accuracy)\n",
    "plt.subplot(1, 2, 1)\n",
    "plt.plot(history_final.history['accuracy'], label='Precisión de entrenamiento')\n",
    "plt.plot(history_final.history['val_accuracy'], label='Precisión de validación')\n",
    "plt.title('Precisión durante el entrenamiento')\n",
    "plt.xlabel('Epochs')\n",
    "plt.ylabel('Precisión')\n",
    "plt.legend()\n",
    "\n",
    "# Gráfica de loss (pérdida)\n",
    "plt.subplot(1, 2, 2)\n",
    "plt.plot(history_final.history['loss'], label='Pérdida de entrenamiento')\n",
    "plt.plot(history_final.history['val_loss'], label='Pérdida de validación')\n",
    "plt.title('Pérdida durante el entrenamiento')\n",
    "plt.xlabel('Epochs')\n",
    "plt.ylabel('Pérdida')\n",
    "plt.legend()\n",
    "\n",
    "plt.show()\n"
   ]
  },
  {
   "cell_type": "markdown",
   "metadata": {},
   "source": [
    "#### Modelo final puesto a prueba"
   ]
  },
  {
   "cell_type": "markdown",
   "metadata": {},
   "source": [
    "Voy a mostrar una imagen cualquiera del conjunto de datos y a probar el modelo con esa imagen para ver si es capaz de reconocer el dígito que representa correctamente."
   ]
  },
  {
   "cell_type": "code",
   "execution_count": 193,
   "metadata": {},
   "outputs": [
    {
     "data": {
      "image/png": "[encoded data removed]",
      "text/plain": [
       "<Figure size 640x480 with 1 Axes>"
      ]
     },
     "metadata": {},
     "output_type": "display_data"
    },
    {
     "name": "stdout",
     "output_type": "stream",
     "text": [
      "\u001b[1m1/1\u001b[0m \u001b[32m━━━━━━━━━━━━━━━━━━━━\u001b[0m\u001b[37m\u001b[0m \u001b[1m0s\u001b[0m 35ms/step\n",
      "_____________________\n",
      "Etiqueta predicha: 7\n"
     ]
    }
   ],
   "source": [
    "# Selección de una imagen de prueba\n",
    "test_image = test_images[34]  # Selecciono la imagen 33\n",
    "test_image_reshaped = test_image.reshape(28, 28)  # Redimensiono a 28x28 para mostrarla\n",
    "\n",
    "# Muestro la imagen\n",
    "plt.imshow(test_image_reshaped, cmap=\"gray\")\n",
    "plt.title(\"Imagen de prueba 33\")\n",
    "plt.show()\n",
    "\n",
    "# Realizo la predicción\n",
    "test_image = test_image.reshape(1, 784)     # Ajusto la forma\n",
    "prediccion = model_final.predict(test_image) # Selecciono el modelo final entrenado para predecir la imagen\n",
    "predicted_label = prediccion.argmax()\n",
    "\n",
    "print(\"_____________________\")\n",
    "print(f\"Etiqueta predicha: {predicted_label}\")\n"
   ]
  },
  {
   "cell_type": "markdown",
   "metadata": {},
   "source": [
    "El modelo entrenado ha sido capaz de predecir el número mostrado en la imagen correctamente."
   ]
  }
 ],
 "metadata": {
  "kernelspec": {
   "display_name": "Python 3",
   "language": "python",
   "name": "python3"
  },
  "language_info": {
   "codemirror_mode": {
    "name": "ipython",
    "version": 3
   },
   "file_extension": ".py",
   "mimetype": "text/x-python",
   "name": "python",
   "nbconvert_exporter": "python",
   "pygments_lexer": "ipython3",
   "version": "3.11.9"
  }
 },
 "nbformat": 4,
 "nbformat_minor": 2
}
